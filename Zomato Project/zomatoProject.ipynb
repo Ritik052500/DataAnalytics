{
 "cells": [
  {
   "cell_type": "markdown",
   "metadata": {},
   "source": [
    "## Basic Imports"
   ]
  },
  {
   "cell_type": "code",
   "execution_count": 2,
   "metadata": {},
   "outputs": [],
   "source": [
    "import pandas as pd\n",
    "import numpy as np\n",
    "import matplotlib.pyplot as plt\n",
    "import seaborn as sns\n",
    "import sqlite3"
   ]
  },
  {
   "cell_type": "markdown",
   "metadata": {},
   "source": [
    "## Read in the data"
   ]
  },
  {
   "cell_type": "code",
   "execution_count": 5,
   "metadata": {},
   "outputs": [
    {
     "name": "stdout",
     "output_type": "stream",
     "text": [
      "Users\n"
     ]
    }
   ],
   "source": [
    "## List of tables\n",
    "\n",
    "conn = sqlite3.connect('C:/Users/ritik/PycharmProjects/DataAnalysisProjects/Zomato Project/zomato_rawdata.sqlite')\n",
    "\n",
    "\n",
    "cursor = conn.cursor()\n",
    "\n",
    "# Execute the SQL command to get the list of tables\n",
    "cursor.execute(\"SELECT name FROM sqlite_master WHERE type='table';\")\n",
    "\n",
    "# Fetch all the results\n",
    "tables = cursor.fetchall()\n",
    "\n",
    "# Print the list of tables\n",
    "for table in tables:\n",
    "    print(table[0])"
   ]
  },
  {
   "cell_type": "code",
   "execution_count": 6,
   "metadata": {},
   "outputs": [
    {
     "data": {
      "text/html": [
       "<div>\n",
       "<style scoped>\n",
       "    .dataframe tbody tr th:only-of-type {\n",
       "        vertical-align: middle;\n",
       "    }\n",
       "\n",
       "    .dataframe tbody tr th {\n",
       "        vertical-align: top;\n",
       "    }\n",
       "\n",
       "    .dataframe thead th {\n",
       "        text-align: right;\n",
       "    }\n",
       "</style>\n",
       "<table border=\"1\" class=\"dataframe\">\n",
       "  <thead>\n",
       "    <tr style=\"text-align: right;\">\n",
       "      <th></th>\n",
       "      <th>index</th>\n",
       "      <th>url</th>\n",
       "      <th>address</th>\n",
       "      <th>name</th>\n",
       "      <th>online_order</th>\n",
       "      <th>book_table</th>\n",
       "      <th>rate</th>\n",
       "      <th>votes</th>\n",
       "      <th>phone</th>\n",
       "      <th>location</th>\n",
       "      <th>rest_type</th>\n",
       "      <th>dish_liked</th>\n",
       "      <th>cuisines</th>\n",
       "      <th>approx_cost(for two people)</th>\n",
       "      <th>reviews_list</th>\n",
       "      <th>menu_item</th>\n",
       "      <th>listed_in(type)</th>\n",
       "      <th>listed_in(city)</th>\n",
       "    </tr>\n",
       "  </thead>\n",
       "  <tbody>\n",
       "    <tr>\n",
       "      <th>0</th>\n",
       "      <td>0</td>\n",
       "      <td>https://www.zomato.com/bangalore/jalsa-banasha...</td>\n",
       "      <td>942, 21st Main Road, 2nd Stage, Banashankari, ...</td>\n",
       "      <td>Jalsa</td>\n",
       "      <td>Yes</td>\n",
       "      <td>Yes</td>\n",
       "      <td>4.1/5</td>\n",
       "      <td>775</td>\n",
       "      <td>080 42297555\\r\\n+91 9743772233</td>\n",
       "      <td>Banashankari</td>\n",
       "      <td>Casual Dining</td>\n",
       "      <td>Pasta, Lunch Buffet, Masala Papad, Paneer Laja...</td>\n",
       "      <td>North Indian, Mughlai, Chinese</td>\n",
       "      <td>800</td>\n",
       "      <td>[('Rated 4.0', 'RATED\\n  A beautiful place to ...</td>\n",
       "      <td>[]</td>\n",
       "      <td>Buffet</td>\n",
       "      <td>Banashankari</td>\n",
       "    </tr>\n",
       "    <tr>\n",
       "      <th>1</th>\n",
       "      <td>1</td>\n",
       "      <td>https://www.zomato.com/bangalore/spice-elephan...</td>\n",
       "      <td>2nd Floor, 80 Feet Road, Near Big Bazaar, 6th ...</td>\n",
       "      <td>Spice Elephant</td>\n",
       "      <td>Yes</td>\n",
       "      <td>No</td>\n",
       "      <td>4.1/5</td>\n",
       "      <td>787</td>\n",
       "      <td>080 41714161</td>\n",
       "      <td>Banashankari</td>\n",
       "      <td>Casual Dining</td>\n",
       "      <td>Momos, Lunch Buffet, Chocolate Nirvana, Thai G...</td>\n",
       "      <td>Chinese, North Indian, Thai</td>\n",
       "      <td>800</td>\n",
       "      <td>[('Rated 4.0', 'RATED\\n  Had been here for din...</td>\n",
       "      <td>[]</td>\n",
       "      <td>Buffet</td>\n",
       "      <td>Banashankari</td>\n",
       "    </tr>\n",
       "    <tr>\n",
       "      <th>2</th>\n",
       "      <td>2</td>\n",
       "      <td>https://www.zomato.com/SanchurroBangalore?cont...</td>\n",
       "      <td>1112, Next to KIMS Medical College, 17th Cross...</td>\n",
       "      <td>San Churro Cafe</td>\n",
       "      <td>Yes</td>\n",
       "      <td>No</td>\n",
       "      <td>3.8/5</td>\n",
       "      <td>918</td>\n",
       "      <td>+91 9663487993</td>\n",
       "      <td>Banashankari</td>\n",
       "      <td>Cafe, Casual Dining</td>\n",
       "      <td>Churros, Cannelloni, Minestrone Soup, Hot Choc...</td>\n",
       "      <td>Cafe, Mexican, Italian</td>\n",
       "      <td>800</td>\n",
       "      <td>[('Rated 3.0', \"RATED\\n  Ambience is not that ...</td>\n",
       "      <td>[]</td>\n",
       "      <td>Buffet</td>\n",
       "      <td>Banashankari</td>\n",
       "    </tr>\n",
       "    <tr>\n",
       "      <th>3</th>\n",
       "      <td>3</td>\n",
       "      <td>https://www.zomato.com/bangalore/addhuri-udupi...</td>\n",
       "      <td>1st Floor, Annakuteera, 3rd Stage, Banashankar...</td>\n",
       "      <td>Addhuri Udupi Bhojana</td>\n",
       "      <td>No</td>\n",
       "      <td>No</td>\n",
       "      <td>3.7/5</td>\n",
       "      <td>88</td>\n",
       "      <td>+91 9620009302</td>\n",
       "      <td>Banashankari</td>\n",
       "      <td>Quick Bites</td>\n",
       "      <td>Masala Dosa</td>\n",
       "      <td>South Indian, North Indian</td>\n",
       "      <td>300</td>\n",
       "      <td>[('Rated 4.0', \"RATED\\n  Great food and proper...</td>\n",
       "      <td>[]</td>\n",
       "      <td>Buffet</td>\n",
       "      <td>Banashankari</td>\n",
       "    </tr>\n",
       "    <tr>\n",
       "      <th>4</th>\n",
       "      <td>4</td>\n",
       "      <td>https://www.zomato.com/bangalore/grand-village...</td>\n",
       "      <td>10, 3rd Floor, Lakshmi Associates, Gandhi Baza...</td>\n",
       "      <td>Grand Village</td>\n",
       "      <td>No</td>\n",
       "      <td>No</td>\n",
       "      <td>3.8/5</td>\n",
       "      <td>166</td>\n",
       "      <td>+91 8026612447\\r\\n+91 9901210005</td>\n",
       "      <td>Basavanagudi</td>\n",
       "      <td>Casual Dining</td>\n",
       "      <td>Panipuri, Gol Gappe</td>\n",
       "      <td>North Indian, Rajasthani</td>\n",
       "      <td>600</td>\n",
       "      <td>[('Rated 4.0', 'RATED\\n  Very good restaurant ...</td>\n",
       "      <td>[]</td>\n",
       "      <td>Buffet</td>\n",
       "      <td>Banashankari</td>\n",
       "    </tr>\n",
       "    <tr>\n",
       "      <th>...</th>\n",
       "      <td>...</td>\n",
       "      <td>...</td>\n",
       "      <td>...</td>\n",
       "      <td>...</td>\n",
       "      <td>...</td>\n",
       "      <td>...</td>\n",
       "      <td>...</td>\n",
       "      <td>...</td>\n",
       "      <td>...</td>\n",
       "      <td>...</td>\n",
       "      <td>...</td>\n",
       "      <td>...</td>\n",
       "      <td>...</td>\n",
       "      <td>...</td>\n",
       "      <td>...</td>\n",
       "      <td>...</td>\n",
       "      <td>...</td>\n",
       "      <td>...</td>\n",
       "    </tr>\n",
       "    <tr>\n",
       "      <th>51712</th>\n",
       "      <td>51712</td>\n",
       "      <td>https://www.zomato.com/bangalore/best-brews-fo...</td>\n",
       "      <td>Four Points by Sheraton Bengaluru, 43/3, White...</td>\n",
       "      <td>Best Brews - Four Points by Sheraton Bengaluru...</td>\n",
       "      <td>No</td>\n",
       "      <td>No</td>\n",
       "      <td>3.6 /5</td>\n",
       "      <td>27</td>\n",
       "      <td>080 40301477</td>\n",
       "      <td>Whitefield</td>\n",
       "      <td>Bar</td>\n",
       "      <td>None</td>\n",
       "      <td>Continental</td>\n",
       "      <td>1,500</td>\n",
       "      <td>[('Rated 5.0', \"RATED\\n  Food and service are ...</td>\n",
       "      <td>[]</td>\n",
       "      <td>Pubs and bars</td>\n",
       "      <td>Whitefield</td>\n",
       "    </tr>\n",
       "    <tr>\n",
       "      <th>51713</th>\n",
       "      <td>51713</td>\n",
       "      <td>https://www.zomato.com/bangalore/vinod-bar-and...</td>\n",
       "      <td>Number 10, Garudachar Palya, Mahadevapura, Whi...</td>\n",
       "      <td>Vinod Bar And Restaurant</td>\n",
       "      <td>No</td>\n",
       "      <td>No</td>\n",
       "      <td>None</td>\n",
       "      <td>0</td>\n",
       "      <td>+91 8197675843</td>\n",
       "      <td>Whitefield</td>\n",
       "      <td>Bar</td>\n",
       "      <td>None</td>\n",
       "      <td>Finger Food</td>\n",
       "      <td>600</td>\n",
       "      <td>[]</td>\n",
       "      <td>[]</td>\n",
       "      <td>Pubs and bars</td>\n",
       "      <td>Whitefield</td>\n",
       "    </tr>\n",
       "    <tr>\n",
       "      <th>51714</th>\n",
       "      <td>51714</td>\n",
       "      <td>https://www.zomato.com/bangalore/plunge-sherat...</td>\n",
       "      <td>Sheraton Grand Bengaluru Whitefield Hotel &amp; Co...</td>\n",
       "      <td>Plunge - Sheraton Grand Bengaluru Whitefield H...</td>\n",
       "      <td>No</td>\n",
       "      <td>No</td>\n",
       "      <td>None</td>\n",
       "      <td>0</td>\n",
       "      <td>None</td>\n",
       "      <td>Whitefield</td>\n",
       "      <td>Bar</td>\n",
       "      <td>None</td>\n",
       "      <td>Finger Food</td>\n",
       "      <td>2,000</td>\n",
       "      <td>[]</td>\n",
       "      <td>[]</td>\n",
       "      <td>Pubs and bars</td>\n",
       "      <td>Whitefield</td>\n",
       "    </tr>\n",
       "    <tr>\n",
       "      <th>51715</th>\n",
       "      <td>51715</td>\n",
       "      <td>https://www.zomato.com/bangalore/chime-sherato...</td>\n",
       "      <td>Sheraton Grand Bengaluru Whitefield Hotel &amp; Co...</td>\n",
       "      <td>Chime - Sheraton Grand Bengaluru Whitefield Ho...</td>\n",
       "      <td>No</td>\n",
       "      <td>Yes</td>\n",
       "      <td>4.3 /5</td>\n",
       "      <td>236</td>\n",
       "      <td>080 49652769</td>\n",
       "      <td>ITPL Main Road, Whitefield</td>\n",
       "      <td>Bar</td>\n",
       "      <td>Cocktails, Pizza, Buttermilk</td>\n",
       "      <td>Finger Food</td>\n",
       "      <td>2,500</td>\n",
       "      <td>[('Rated 4.0', 'RATED\\n  Nice and friendly pla...</td>\n",
       "      <td>[]</td>\n",
       "      <td>Pubs and bars</td>\n",
       "      <td>Whitefield</td>\n",
       "    </tr>\n",
       "    <tr>\n",
       "      <th>51716</th>\n",
       "      <td>51716</td>\n",
       "      <td>https://www.zomato.com/bangalore/the-nest-the-...</td>\n",
       "      <td>ITPL Main Road, KIADB Export Promotion Industr...</td>\n",
       "      <td>The Nest - The Den Bengaluru</td>\n",
       "      <td>No</td>\n",
       "      <td>No</td>\n",
       "      <td>3.4 /5</td>\n",
       "      <td>13</td>\n",
       "      <td>+91 8071117272</td>\n",
       "      <td>ITPL Main Road, Whitefield</td>\n",
       "      <td>Bar, Casual Dining</td>\n",
       "      <td>None</td>\n",
       "      <td>Finger Food, North Indian, Continental</td>\n",
       "      <td>1,500</td>\n",
       "      <td>[('Rated 5.0', 'RATED\\n  Great ambience , look...</td>\n",
       "      <td>[]</td>\n",
       "      <td>Pubs and bars</td>\n",
       "      <td>Whitefield</td>\n",
       "    </tr>\n",
       "  </tbody>\n",
       "</table>\n",
       "<p>51717 rows × 18 columns</p>\n",
       "</div>"
      ],
      "text/plain": [
       "       index                                                url  \\\n",
       "0          0  https://www.zomato.com/bangalore/jalsa-banasha...   \n",
       "1          1  https://www.zomato.com/bangalore/spice-elephan...   \n",
       "2          2  https://www.zomato.com/SanchurroBangalore?cont...   \n",
       "3          3  https://www.zomato.com/bangalore/addhuri-udupi...   \n",
       "4          4  https://www.zomato.com/bangalore/grand-village...   \n",
       "...      ...                                                ...   \n",
       "51712  51712  https://www.zomato.com/bangalore/best-brews-fo...   \n",
       "51713  51713  https://www.zomato.com/bangalore/vinod-bar-and...   \n",
       "51714  51714  https://www.zomato.com/bangalore/plunge-sherat...   \n",
       "51715  51715  https://www.zomato.com/bangalore/chime-sherato...   \n",
       "51716  51716  https://www.zomato.com/bangalore/the-nest-the-...   \n",
       "\n",
       "                                                 address  \\\n",
       "0      942, 21st Main Road, 2nd Stage, Banashankari, ...   \n",
       "1      2nd Floor, 80 Feet Road, Near Big Bazaar, 6th ...   \n",
       "2      1112, Next to KIMS Medical College, 17th Cross...   \n",
       "3      1st Floor, Annakuteera, 3rd Stage, Banashankar...   \n",
       "4      10, 3rd Floor, Lakshmi Associates, Gandhi Baza...   \n",
       "...                                                  ...   \n",
       "51712  Four Points by Sheraton Bengaluru, 43/3, White...   \n",
       "51713  Number 10, Garudachar Palya, Mahadevapura, Whi...   \n",
       "51714  Sheraton Grand Bengaluru Whitefield Hotel & Co...   \n",
       "51715  Sheraton Grand Bengaluru Whitefield Hotel & Co...   \n",
       "51716  ITPL Main Road, KIADB Export Promotion Industr...   \n",
       "\n",
       "                                                    name online_order  \\\n",
       "0                                                  Jalsa          Yes   \n",
       "1                                         Spice Elephant          Yes   \n",
       "2                                        San Churro Cafe          Yes   \n",
       "3                                  Addhuri Udupi Bhojana           No   \n",
       "4                                          Grand Village           No   \n",
       "...                                                  ...          ...   \n",
       "51712  Best Brews - Four Points by Sheraton Bengaluru...           No   \n",
       "51713                           Vinod Bar And Restaurant           No   \n",
       "51714  Plunge - Sheraton Grand Bengaluru Whitefield H...           No   \n",
       "51715  Chime - Sheraton Grand Bengaluru Whitefield Ho...           No   \n",
       "51716                       The Nest - The Den Bengaluru           No   \n",
       "\n",
       "      book_table    rate  votes                             phone  \\\n",
       "0            Yes   4.1/5    775    080 42297555\\r\\n+91 9743772233   \n",
       "1             No   4.1/5    787                      080 41714161   \n",
       "2             No   3.8/5    918                    +91 9663487993   \n",
       "3             No   3.7/5     88                    +91 9620009302   \n",
       "4             No   3.8/5    166  +91 8026612447\\r\\n+91 9901210005   \n",
       "...          ...     ...    ...                               ...   \n",
       "51712         No  3.6 /5     27                      080 40301477   \n",
       "51713         No    None      0                    +91 8197675843   \n",
       "51714         No    None      0                              None   \n",
       "51715        Yes  4.3 /5    236                      080 49652769   \n",
       "51716         No  3.4 /5     13                    +91 8071117272   \n",
       "\n",
       "                         location            rest_type  \\\n",
       "0                    Banashankari        Casual Dining   \n",
       "1                    Banashankari        Casual Dining   \n",
       "2                    Banashankari  Cafe, Casual Dining   \n",
       "3                    Banashankari          Quick Bites   \n",
       "4                    Basavanagudi        Casual Dining   \n",
       "...                           ...                  ...   \n",
       "51712                  Whitefield                  Bar   \n",
       "51713                  Whitefield                  Bar   \n",
       "51714                  Whitefield                  Bar   \n",
       "51715  ITPL Main Road, Whitefield                  Bar   \n",
       "51716  ITPL Main Road, Whitefield   Bar, Casual Dining   \n",
       "\n",
       "                                              dish_liked  \\\n",
       "0      Pasta, Lunch Buffet, Masala Papad, Paneer Laja...   \n",
       "1      Momos, Lunch Buffet, Chocolate Nirvana, Thai G...   \n",
       "2      Churros, Cannelloni, Minestrone Soup, Hot Choc...   \n",
       "3                                            Masala Dosa   \n",
       "4                                    Panipuri, Gol Gappe   \n",
       "...                                                  ...   \n",
       "51712                                               None   \n",
       "51713                                               None   \n",
       "51714                                               None   \n",
       "51715                       Cocktails, Pizza, Buttermilk   \n",
       "51716                                               None   \n",
       "\n",
       "                                     cuisines approx_cost(for two people)  \\\n",
       "0              North Indian, Mughlai, Chinese                         800   \n",
       "1                 Chinese, North Indian, Thai                         800   \n",
       "2                      Cafe, Mexican, Italian                         800   \n",
       "3                  South Indian, North Indian                         300   \n",
       "4                    North Indian, Rajasthani                         600   \n",
       "...                                       ...                         ...   \n",
       "51712                             Continental                       1,500   \n",
       "51713                             Finger Food                         600   \n",
       "51714                             Finger Food                       2,000   \n",
       "51715                             Finger Food                       2,500   \n",
       "51716  Finger Food, North Indian, Continental                       1,500   \n",
       "\n",
       "                                            reviews_list menu_item  \\\n",
       "0      [('Rated 4.0', 'RATED\\n  A beautiful place to ...        []   \n",
       "1      [('Rated 4.0', 'RATED\\n  Had been here for din...        []   \n",
       "2      [('Rated 3.0', \"RATED\\n  Ambience is not that ...        []   \n",
       "3      [('Rated 4.0', \"RATED\\n  Great food and proper...        []   \n",
       "4      [('Rated 4.0', 'RATED\\n  Very good restaurant ...        []   \n",
       "...                                                  ...       ...   \n",
       "51712  [('Rated 5.0', \"RATED\\n  Food and service are ...        []   \n",
       "51713                                                 []        []   \n",
       "51714                                                 []        []   \n",
       "51715  [('Rated 4.0', 'RATED\\n  Nice and friendly pla...        []   \n",
       "51716  [('Rated 5.0', 'RATED\\n  Great ambience , look...        []   \n",
       "\n",
       "      listed_in(type) listed_in(city)  \n",
       "0              Buffet    Banashankari  \n",
       "1              Buffet    Banashankari  \n",
       "2              Buffet    Banashankari  \n",
       "3              Buffet    Banashankari  \n",
       "4              Buffet    Banashankari  \n",
       "...               ...             ...  \n",
       "51712   Pubs and bars      Whitefield  \n",
       "51713   Pubs and bars      Whitefield  \n",
       "51714   Pubs and bars      Whitefield  \n",
       "51715   Pubs and bars      Whitefield  \n",
       "51716   Pubs and bars      Whitefield  \n",
       "\n",
       "[51717 rows x 18 columns]"
      ]
     },
     "execution_count": 6,
     "metadata": {},
     "output_type": "execute_result"
    }
   ],
   "source": [
    "query = 'Select * from Users;'\n",
    "df = pd.read_sql_query(query, conn)\n",
    "df"
   ]
  },
  {
   "cell_type": "markdown",
   "metadata": {},
   "source": [
    "## Data Cleaning"
   ]
  },
  {
   "cell_type": "code",
   "execution_count": 13,
   "metadata": {},
   "outputs": [
    {
     "data": {
      "text/plain": [
       "index                          0.000000\n",
       "url                            0.000000\n",
       "address                        0.000000\n",
       "name                           0.000000\n",
       "online_order                   0.000000\n",
       "book_table                     0.000000\n",
       "rate                           0.150337\n",
       "votes                          0.000000\n",
       "phone                          0.023358\n",
       "location                       0.000406\n",
       "rest_type                      0.004389\n",
       "dish_liked                     0.542916\n",
       "cuisines                       0.000870\n",
       "approx_cost(for two people)    0.006690\n",
       "reviews_list                   0.000000\n",
       "menu_item                      0.000000\n",
       "listed_in(type)                0.000000\n",
       "listed_in(city)                0.000000\n",
       "dtype: float64"
      ]
     },
     "execution_count": 13,
     "metadata": {},
     "output_type": "execute_result"
    }
   ],
   "source": [
    "df.isnull().sum()/df.shape[0]"
   ]
  },
  {
   "cell_type": "markdown",
   "metadata": {},
   "source": [
    "### Clean the rate column"
   ]
  },
  {
   "cell_type": "code",
   "execution_count": 7,
   "metadata": {},
   "outputs": [
    {
     "data": {
      "text/plain": [
       "array(['4.1/5', '3.8/5', '3.7/5', '3.6/5', '4.6/5', '4.0/5', '4.2/5',\n",
       "       '3.9/5', '3.1/5', '3.0/5', '3.2/5', '3.3/5', '2.8/5', '4.4/5',\n",
       "       '4.3/5', 'NEW', '2.9/5', '3.5/5', None, '2.6/5', '3.8 /5', '3.4/5',\n",
       "       '4.5/5', '2.5/5', '2.7/5', '4.7/5', '2.4/5', '2.2/5', '2.3/5',\n",
       "       '3.4 /5', '-', '3.6 /5', '4.8/5', '3.9 /5', '4.2 /5', '4.0 /5',\n",
       "       '4.1 /5', '3.7 /5', '3.1 /5', '2.9 /5', '3.3 /5', '2.8 /5',\n",
       "       '3.5 /5', '2.7 /5', '2.5 /5', '3.2 /5', '2.6 /5', '4.5 /5',\n",
       "       '4.3 /5', '4.4 /5', '4.9/5', '2.1/5', '2.0/5', '1.8/5', '4.6 /5',\n",
       "       '4.9 /5', '3.0 /5', '4.8 /5', '2.3 /5', '4.7 /5', '2.4 /5',\n",
       "       '2.1 /5', '2.2 /5', '2.0 /5', '1.8 /5'], dtype=object)"
      ]
     },
     "execution_count": 7,
     "metadata": {},
     "output_type": "execute_result"
    }
   ],
   "source": [
    "df['rate'].unique()"
   ]
  },
  {
   "cell_type": "code",
   "execution_count": 8,
   "metadata": {},
   "outputs": [],
   "source": [
    "df['rate'].replace(r'NEW|-',np.nan, regex=True, inplace=True)"
   ]
  },
  {
   "cell_type": "code",
   "execution_count": 9,
   "metadata": {},
   "outputs": [],
   "source": [
    "def splitter(x):\n",
    "    try:\n",
    "        var = x.split('/')[0]\n",
    "        return float(var)\n",
    "    except:\n",
    "        return x\n",
    "df['rate'] = df['rate'].apply(lambda x : splitter(x))"
   ]
  },
  {
   "cell_type": "markdown",
   "metadata": {},
   "source": [
    "## Relationship between online ordering and rating"
   ]
  },
  {
   "cell_type": "code",
   "execution_count": 27,
   "metadata": {},
   "outputs": [
    {
     "data": {
      "text/plain": [
       "Yes    30444\n",
       "No     21273\n",
       "Name: online_order, dtype: int64"
      ]
     },
     "execution_count": 27,
     "metadata": {},
     "output_type": "execute_result"
    }
   ],
   "source": [
    "df['online_order'].value_counts()"
   ]
  },
  {
   "cell_type": "code",
   "execution_count": 29,
   "metadata": {},
   "outputs": [
    {
     "data": {
      "text/html": [
       "<div>\n",
       "<style scoped>\n",
       "    .dataframe tbody tr th:only-of-type {\n",
       "        vertical-align: middle;\n",
       "    }\n",
       "\n",
       "    .dataframe tbody tr th {\n",
       "        vertical-align: top;\n",
       "    }\n",
       "\n",
       "    .dataframe thead th {\n",
       "        text-align: right;\n",
       "    }\n",
       "</style>\n",
       "<table border=\"1\" class=\"dataframe\">\n",
       "  <thead>\n",
       "    <tr style=\"text-align: right;\">\n",
       "      <th>online_order</th>\n",
       "      <th>No</th>\n",
       "      <th>Yes</th>\n",
       "    </tr>\n",
       "    <tr>\n",
       "      <th>rate</th>\n",
       "      <th></th>\n",
       "      <th></th>\n",
       "    </tr>\n",
       "  </thead>\n",
       "  <tbody>\n",
       "    <tr>\n",
       "      <th>1.8</th>\n",
       "      <td>5</td>\n",
       "      <td>0</td>\n",
       "    </tr>\n",
       "    <tr>\n",
       "      <th>2.0</th>\n",
       "      <td>11</td>\n",
       "      <td>0</td>\n",
       "    </tr>\n",
       "    <tr>\n",
       "      <th>2.1</th>\n",
       "      <td>9</td>\n",
       "      <td>15</td>\n",
       "    </tr>\n",
       "    <tr>\n",
       "      <th>2.2</th>\n",
       "      <td>10</td>\n",
       "      <td>16</td>\n",
       "    </tr>\n",
       "    <tr>\n",
       "      <th>2.3</th>\n",
       "      <td>29</td>\n",
       "      <td>22</td>\n",
       "    </tr>\n",
       "  </tbody>\n",
       "</table>\n",
       "</div>"
      ],
      "text/plain": [
       "online_order  No  Yes\n",
       "rate                 \n",
       "1.8            5    0\n",
       "2.0           11    0\n",
       "2.1            9   15\n",
       "2.2           10   16\n",
       "2.3           29   22"
      ]
     },
     "execution_count": 29,
     "metadata": {},
     "output_type": "execute_result"
    }
   ],
   "source": [
    "pivot_table = pd.pivot_table(data=df, index='rate', columns='online_order', values='index', aggfunc='count', fill_value=0)\n",
    "pivot_table.head()"
   ]
  },
  {
   "cell_type": "code",
   "execution_count": 43,
   "metadata": {},
   "outputs": [],
   "source": [
    "no_prop = df[df['online_order'] == 'No'].shape[0] / df['online_order'].value_counts().sum()\n",
    "yes_prop = df[df['online_order'] == 'Yes'].shape[0] / df['online_order'].value_counts().sum()"
   ]
  },
  {
   "cell_type": "code",
   "execution_count": 44,
   "metadata": {},
   "outputs": [
    {
     "data": {
      "text/plain": [
       "0.41133476419745924"
      ]
     },
     "execution_count": 44,
     "metadata": {},
     "output_type": "execute_result"
    }
   ],
   "source": [
    "no_prop"
   ]
  },
  {
   "cell_type": "code",
   "execution_count": 45,
   "metadata": {},
   "outputs": [],
   "source": [
    "pivot_table = pivot_table.multiply([1 - no_prop,1 - yes_prop])"
   ]
  },
  {
   "cell_type": "code",
   "execution_count": 46,
   "metadata": {},
   "outputs": [
    {
     "data": {
      "text/html": [
       "<div>\n",
       "<style scoped>\n",
       "    .dataframe tbody tr th:only-of-type {\n",
       "        vertical-align: middle;\n",
       "    }\n",
       "\n",
       "    .dataframe tbody tr th {\n",
       "        vertical-align: top;\n",
       "    }\n",
       "\n",
       "    .dataframe thead th {\n",
       "        text-align: right;\n",
       "    }\n",
       "</style>\n",
       "<table border=\"1\" class=\"dataframe\">\n",
       "  <thead>\n",
       "    <tr style=\"text-align: right;\">\n",
       "      <th>online_order</th>\n",
       "      <th>No</th>\n",
       "      <th>Yes</th>\n",
       "    </tr>\n",
       "    <tr>\n",
       "      <th>rate</th>\n",
       "      <th></th>\n",
       "      <th></th>\n",
       "    </tr>\n",
       "  </thead>\n",
       "  <tbody>\n",
       "    <tr>\n",
       "      <th>1.8</th>\n",
       "      <td>1.210692</td>\n",
       "      <td>0.000000</td>\n",
       "    </tr>\n",
       "    <tr>\n",
       "      <th>2.0</th>\n",
       "      <td>2.663523</td>\n",
       "      <td>0.000000</td>\n",
       "    </tr>\n",
       "    <tr>\n",
       "      <th>2.1</th>\n",
       "      <td>2.179246</td>\n",
       "      <td>2.537944</td>\n",
       "    </tr>\n",
       "    <tr>\n",
       "      <th>2.2</th>\n",
       "      <td>2.421385</td>\n",
       "      <td>2.707141</td>\n",
       "    </tr>\n",
       "    <tr>\n",
       "      <th>2.3</th>\n",
       "      <td>7.022016</td>\n",
       "      <td>3.722318</td>\n",
       "    </tr>\n",
       "    <tr>\n",
       "      <th>2.4</th>\n",
       "      <td>8.716985</td>\n",
       "      <td>5.752674</td>\n",
       "    </tr>\n",
       "    <tr>\n",
       "      <th>2.5</th>\n",
       "      <td>9.201262</td>\n",
       "      <td>10.659366</td>\n",
       "    </tr>\n",
       "    <tr>\n",
       "      <th>2.6</th>\n",
       "      <td>20.097494</td>\n",
       "      <td>29.947743</td>\n",
       "    </tr>\n",
       "    <tr>\n",
       "      <th>2.7</th>\n",
       "      <td>34.141525</td>\n",
       "      <td>28.086584</td>\n",
       "    </tr>\n",
       "    <tr>\n",
       "      <th>2.8</th>\n",
       "      <td>54.239019</td>\n",
       "      <td>63.617804</td>\n",
       "    </tr>\n",
       "    <tr>\n",
       "      <th>2.9</th>\n",
       "      <td>76.031481</td>\n",
       "      <td>82.567789</td>\n",
       "    </tr>\n",
       "    <tr>\n",
       "      <th>3.0</th>\n",
       "      <td>106.298791</td>\n",
       "      <td>98.810632</td>\n",
       "    </tr>\n",
       "    <tr>\n",
       "      <th>3.1</th>\n",
       "      <td>142.135285</td>\n",
       "      <td>164.797185</td>\n",
       "    </tr>\n",
       "    <tr>\n",
       "      <th>3.2</th>\n",
       "      <td>200.732797</td>\n",
       "      <td>176.640925</td>\n",
       "    </tr>\n",
       "    <tr>\n",
       "      <th>3.3</th>\n",
       "      <td>275.311447</td>\n",
       "      <td>198.467246</td>\n",
       "    </tr>\n",
       "    <tr>\n",
       "      <th>3.4</th>\n",
       "      <td>247.949799</td>\n",
       "      <td>245.673011</td>\n",
       "    </tr>\n",
       "    <tr>\n",
       "      <th>3.5</th>\n",
       "      <td>263.930939</td>\n",
       "      <td>286.618512</td>\n",
       "    </tr>\n",
       "    <tr>\n",
       "      <th>3.6</th>\n",
       "      <td>263.930939</td>\n",
       "      <td>376.630938</td>\n",
       "    </tr>\n",
       "    <tr>\n",
       "      <th>3.7</th>\n",
       "      <td>283.786294</td>\n",
       "      <td>448.200968</td>\n",
       "    </tr>\n",
       "    <tr>\n",
       "      <th>3.8</th>\n",
       "      <td>277.732832</td>\n",
       "      <td>461.229082</td>\n",
       "    </tr>\n",
       "    <tr>\n",
       "      <th>3.9</th>\n",
       "      <td>246.254830</td>\n",
       "      <td>499.975032</td>\n",
       "    </tr>\n",
       "    <tr>\n",
       "      <th>4.0</th>\n",
       "      <td>211.629028</td>\n",
       "      <td>390.674230</td>\n",
       "    </tr>\n",
       "    <tr>\n",
       "      <th>4.1</th>\n",
       "      <td>204.122735</td>\n",
       "      <td>356.158187</td>\n",
       "    </tr>\n",
       "    <tr>\n",
       "      <th>4.2</th>\n",
       "      <td>156.905732</td>\n",
       "      <td>259.885499</td>\n",
       "    </tr>\n",
       "    <tr>\n",
       "      <th>4.3</th>\n",
       "      <td>167.559825</td>\n",
       "      <td>169.365485</td>\n",
       "    </tr>\n",
       "    <tr>\n",
       "      <th>4.4</th>\n",
       "      <td>90.559790</td>\n",
       "      <td>130.788731</td>\n",
       "    </tr>\n",
       "    <tr>\n",
       "      <th>4.5</th>\n",
       "      <td>71.915127</td>\n",
       "      <td>60.741467</td>\n",
       "    </tr>\n",
       "    <tr>\n",
       "      <th>4.6</th>\n",
       "      <td>33.899387</td>\n",
       "      <td>27.071406</td>\n",
       "    </tr>\n",
       "    <tr>\n",
       "      <th>4.7</th>\n",
       "      <td>27.361648</td>\n",
       "      <td>9.136600</td>\n",
       "    </tr>\n",
       "    <tr>\n",
       "      <th>4.8</th>\n",
       "      <td>8.232708</td>\n",
       "      <td>5.414281</td>\n",
       "    </tr>\n",
       "    <tr>\n",
       "      <th>4.9</th>\n",
       "      <td>2.905662</td>\n",
       "      <td>7.275440</td>\n",
       "    </tr>\n",
       "  </tbody>\n",
       "</table>\n",
       "</div>"
      ],
      "text/plain": [
       "online_order          No         Yes\n",
       "rate                                \n",
       "1.8             1.210692    0.000000\n",
       "2.0             2.663523    0.000000\n",
       "2.1             2.179246    2.537944\n",
       "2.2             2.421385    2.707141\n",
       "2.3             7.022016    3.722318\n",
       "2.4             8.716985    5.752674\n",
       "2.5             9.201262   10.659366\n",
       "2.6            20.097494   29.947743\n",
       "2.7            34.141525   28.086584\n",
       "2.8            54.239019   63.617804\n",
       "2.9            76.031481   82.567789\n",
       "3.0           106.298791   98.810632\n",
       "3.1           142.135285  164.797185\n",
       "3.2           200.732797  176.640925\n",
       "3.3           275.311447  198.467246\n",
       "3.4           247.949799  245.673011\n",
       "3.5           263.930939  286.618512\n",
       "3.6           263.930939  376.630938\n",
       "3.7           283.786294  448.200968\n",
       "3.8           277.732832  461.229082\n",
       "3.9           246.254830  499.975032\n",
       "4.0           211.629028  390.674230\n",
       "4.1           204.122735  356.158187\n",
       "4.2           156.905732  259.885499\n",
       "4.3           167.559825  169.365485\n",
       "4.4            90.559790  130.788731\n",
       "4.5            71.915127   60.741467\n",
       "4.6            33.899387   27.071406\n",
       "4.7            27.361648    9.136600\n",
       "4.8             8.232708    5.414281\n",
       "4.9             2.905662    7.275440"
      ]
     },
     "execution_count": 46,
     "metadata": {},
     "output_type": "execute_result"
    }
   ],
   "source": [
    "pivot_table"
   ]
  },
  {
   "cell_type": "code",
   "execution_count": 47,
   "metadata": {},
   "outputs": [],
   "source": [
    "normalized_table = pivot_table.apply(lambda x : 100*x/x.sum(), axis=1)"
   ]
  },
  {
   "cell_type": "code",
   "execution_count": 48,
   "metadata": {},
   "outputs": [
    {
     "data": {
      "text/html": [
       "<div>\n",
       "<style scoped>\n",
       "    .dataframe tbody tr th:only-of-type {\n",
       "        vertical-align: middle;\n",
       "    }\n",
       "\n",
       "    .dataframe tbody tr th {\n",
       "        vertical-align: top;\n",
       "    }\n",
       "\n",
       "    .dataframe thead th {\n",
       "        text-align: right;\n",
       "    }\n",
       "</style>\n",
       "<table border=\"1\" class=\"dataframe\">\n",
       "  <thead>\n",
       "    <tr style=\"text-align: right;\">\n",
       "      <th>online_order</th>\n",
       "      <th>No</th>\n",
       "      <th>Yes</th>\n",
       "    </tr>\n",
       "    <tr>\n",
       "      <th>rate</th>\n",
       "      <th></th>\n",
       "      <th></th>\n",
       "    </tr>\n",
       "  </thead>\n",
       "  <tbody>\n",
       "    <tr>\n",
       "      <th>1.8</th>\n",
       "      <td>100.000000</td>\n",
       "      <td>0.000000</td>\n",
       "    </tr>\n",
       "    <tr>\n",
       "      <th>2.0</th>\n",
       "      <td>100.000000</td>\n",
       "      <td>0.000000</td>\n",
       "    </tr>\n",
       "    <tr>\n",
       "      <th>2.1</th>\n",
       "      <td>46.197970</td>\n",
       "      <td>53.802030</td>\n",
       "    </tr>\n",
       "    <tr>\n",
       "      <th>2.2</th>\n",
       "      <td>47.214054</td>\n",
       "      <td>52.785946</td>\n",
       "    </tr>\n",
       "    <tr>\n",
       "      <th>2.3</th>\n",
       "      <td>65.355523</td>\n",
       "      <td>34.644477</td>\n",
       "    </tr>\n",
       "    <tr>\n",
       "      <th>2.4</th>\n",
       "      <td>60.243197</td>\n",
       "      <td>39.756803</td>\n",
       "    </tr>\n",
       "    <tr>\n",
       "      <th>2.5</th>\n",
       "      <td>46.329159</td>\n",
       "      <td>53.670841</td>\n",
       "    </tr>\n",
       "    <tr>\n",
       "      <th>2.6</th>\n",
       "      <td>40.158654</td>\n",
       "      <td>59.841346</td>\n",
       "    </tr>\n",
       "    <tr>\n",
       "      <th>2.7</th>\n",
       "      <td>54.865118</td>\n",
       "      <td>45.134882</td>\n",
       "    </tr>\n",
       "    <tr>\n",
       "      <th>2.8</th>\n",
       "      <td>46.021110</td>\n",
       "      <td>53.978890</td>\n",
       "    </tr>\n",
       "    <tr>\n",
       "      <th>2.9</th>\n",
       "      <td>47.939364</td>\n",
       "      <td>52.060636</td>\n",
       "    </tr>\n",
       "    <tr>\n",
       "      <th>3.0</th>\n",
       "      <td>51.825406</td>\n",
       "      <td>48.174594</td>\n",
       "    </tr>\n",
       "    <tr>\n",
       "      <th>3.1</th>\n",
       "      <td>46.308325</td>\n",
       "      <td>53.691675</td>\n",
       "    </tr>\n",
       "    <tr>\n",
       "      <th>3.2</th>\n",
       "      <td>53.192044</td>\n",
       "      <td>46.807956</td>\n",
       "    </tr>\n",
       "    <tr>\n",
       "      <th>3.3</th>\n",
       "      <td>58.109715</td>\n",
       "      <td>41.890285</td>\n",
       "    </tr>\n",
       "    <tr>\n",
       "      <th>3.4</th>\n",
       "      <td>50.230620</td>\n",
       "      <td>49.769380</td>\n",
       "    </tr>\n",
       "    <tr>\n",
       "      <th>3.5</th>\n",
       "      <td>47.939552</td>\n",
       "      <td>52.060448</td>\n",
       "    </tr>\n",
       "    <tr>\n",
       "      <th>3.6</th>\n",
       "      <td>41.203036</td>\n",
       "      <td>58.796964</td>\n",
       "    </tr>\n",
       "    <tr>\n",
       "      <th>3.7</th>\n",
       "      <td>38.769294</td>\n",
       "      <td>61.230706</td>\n",
       "    </tr>\n",
       "    <tr>\n",
       "      <th>3.8</th>\n",
       "      <td>37.584188</td>\n",
       "      <td>62.415812</td>\n",
       "    </tr>\n",
       "    <tr>\n",
       "      <th>3.9</th>\n",
       "      <td>32.999863</td>\n",
       "      <td>67.000137</td>\n",
       "    </tr>\n",
       "    <tr>\n",
       "      <th>4.0</th>\n",
       "      <td>35.136624</td>\n",
       "      <td>64.863376</td>\n",
       "    </tr>\n",
       "    <tr>\n",
       "      <th>4.1</th>\n",
       "      <td>36.432212</td>\n",
       "      <td>63.567788</td>\n",
       "    </tr>\n",
       "    <tr>\n",
       "      <th>4.2</th>\n",
       "      <td>37.646121</td>\n",
       "      <td>62.353879</td>\n",
       "    </tr>\n",
       "    <tr>\n",
       "      <th>4.3</th>\n",
       "      <td>49.732039</td>\n",
       "      <td>50.267961</td>\n",
       "    </tr>\n",
       "    <tr>\n",
       "      <th>4.4</th>\n",
       "      <td>40.912760</td>\n",
       "      <td>59.087240</td>\n",
       "    </tr>\n",
       "    <tr>\n",
       "      <th>4.5</th>\n",
       "      <td>54.211498</td>\n",
       "      <td>45.788502</td>\n",
       "    </tr>\n",
       "    <tr>\n",
       "      <th>4.6</th>\n",
       "      <td>55.599386</td>\n",
       "      <td>44.400614</td>\n",
       "    </tr>\n",
       "    <tr>\n",
       "      <th>4.7</th>\n",
       "      <td>74.967018</td>\n",
       "      <td>25.032982</td>\n",
       "    </tr>\n",
       "    <tr>\n",
       "      <th>4.8</th>\n",
       "      <td>60.326186</td>\n",
       "      <td>39.673814</td>\n",
       "    </tr>\n",
       "    <tr>\n",
       "      <th>4.9</th>\n",
       "      <td>28.539756</td>\n",
       "      <td>71.460244</td>\n",
       "    </tr>\n",
       "  </tbody>\n",
       "</table>\n",
       "</div>"
      ],
      "text/plain": [
       "online_order          No        Yes\n",
       "rate                               \n",
       "1.8           100.000000   0.000000\n",
       "2.0           100.000000   0.000000\n",
       "2.1            46.197970  53.802030\n",
       "2.2            47.214054  52.785946\n",
       "2.3            65.355523  34.644477\n",
       "2.4            60.243197  39.756803\n",
       "2.5            46.329159  53.670841\n",
       "2.6            40.158654  59.841346\n",
       "2.7            54.865118  45.134882\n",
       "2.8            46.021110  53.978890\n",
       "2.9            47.939364  52.060636\n",
       "3.0            51.825406  48.174594\n",
       "3.1            46.308325  53.691675\n",
       "3.2            53.192044  46.807956\n",
       "3.3            58.109715  41.890285\n",
       "3.4            50.230620  49.769380\n",
       "3.5            47.939552  52.060448\n",
       "3.6            41.203036  58.796964\n",
       "3.7            38.769294  61.230706\n",
       "3.8            37.584188  62.415812\n",
       "3.9            32.999863  67.000137\n",
       "4.0            35.136624  64.863376\n",
       "4.1            36.432212  63.567788\n",
       "4.2            37.646121  62.353879\n",
       "4.3            49.732039  50.267961\n",
       "4.4            40.912760  59.087240\n",
       "4.5            54.211498  45.788502\n",
       "4.6            55.599386  44.400614\n",
       "4.7            74.967018  25.032982\n",
       "4.8            60.326186  39.673814\n",
       "4.9            28.539756  71.460244"
      ]
     },
     "execution_count": 48,
     "metadata": {},
     "output_type": "execute_result"
    }
   ],
   "source": [
    "normalized_table"
   ]
  },
  {
   "cell_type": "code",
   "execution_count": 49,
   "metadata": {},
   "outputs": [
    {
     "data": {
      "text/plain": [
       "Text(0.5, 1.0, 'Rating Distribution for Online Orders')"
      ]
     },
     "execution_count": 49,
     "metadata": {},
     "output_type": "execute_result"
    },
    {
     "data": {
      "image/png": "[encoded data removed]",
      "text/plain": [
       "<Figure size 640x480 with 1 Axes>"
      ]
     },
     "metadata": {},
     "output_type": "display_data"
    }
   ],
   "source": [
    "normalized_table.plot(kind='bar', stacked=True)\n",
    "plt.hlines(50, 0,50, colors='k', linestyles='dashed')\n",
    "plt.ylabel('Proportion')\n",
    "plt.xlabel('Rating')\n",
    "plt.title('Rating Distribution for Online Orders')"
   ]
  },
  {
   "cell_type": "markdown",
   "metadata": {},
   "source": [
    "#### Based on the stacked chart, ratings below 3.5 are distributed fairly evenly between online and in store orders, while online order look better between 3.5 and 4.3 and they are both fairly even on the high rating side. With the proportions not being to extreme for the majority of the ratings, there seems to be no relationship between online and in store orders when compared to ratings."
   ]
  },
  {
   "cell_type": "markdown",
   "metadata": {},
   "source": [
    "## Cleaning the reviews"
   ]
  },
  {
   "cell_type": "code",
   "execution_count": 50,
   "metadata": {},
   "outputs": [],
   "source": [
    "restaurant_df = df.dropna(subset=['rest_type'])"
   ]
  },
  {
   "cell_type": "code",
   "execution_count": 51,
   "metadata": {},
   "outputs": [],
   "source": [
    "quick_bites_df = restaurant_df[restaurant_df['rest_type'].str.contains('Quick Bites')]"
   ]
  },
  {
   "cell_type": "code",
   "execution_count": 52,
   "metadata": {},
   "outputs": [
    {
     "data": {
      "text/plain": [
       "(20639, 18)"
      ]
     },
     "execution_count": 52,
     "metadata": {},
     "output_type": "execute_result"
    }
   ],
   "source": [
    "quick_bites_df.shape"
   ]
  },
  {
   "cell_type": "code",
   "execution_count": 53,
   "metadata": {},
   "outputs": [
    {
     "name": "stderr",
     "output_type": "stream",
     "text": [
      "C:\\Users\\ritik\\AppData\\Local\\Temp\\ipykernel_18644\\1978673035.py:1: SettingWithCopyWarning: \n",
      "A value is trying to be set on a copy of a slice from a DataFrame.\n",
      "Try using .loc[row_indexer,col_indexer] = value instead\n",
      "\n",
      "See the caveats in the documentation: https://pandas.pydata.org/pandas-docs/stable/user_guide/indexing.html#returning-a-view-versus-a-copy\n",
      "  quick_bites_df['reviews_list'] = quick_bites_df['reviews_list'].apply(lambda x : str(x).lower())\n"
     ]
    }
   ],
   "source": [
    "quick_bites_df['reviews_list'] = quick_bites_df['reviews_list'].apply(lambda x : str(x).lower())"
   ]
  },
  {
   "cell_type": "code",
   "execution_count": 54,
   "metadata": {},
   "outputs": [
    {
     "data": {
      "text/plain": [
       "3        [('rated 4.0', \"rated\\n  great food and proper...\n",
       "23       [('rated 4.0', \"rated\\n  so, went here with fr...\n",
       "26       [('rated 5.0', 'rated\\n  please provide some e...\n",
       "31       [('rated 1.0', \"rated\\n  worst restaurant ever...\n",
       "34       [('rated 3.0', 'rated\\n  not worth for the mon...\n",
       "                               ...                        \n",
       "51641    [('rated 2.0', \"rated\\n  food is not upto the ...\n",
       "51642                                                   []\n",
       "51643                                                   []\n",
       "51644                                                   []\n",
       "51645    [('rated 5.0', \"rated\\n  i was randomly lookin...\n",
       "Name: reviews_list, Length: 20639, dtype: object"
      ]
     },
     "execution_count": 54,
     "metadata": {},
     "output_type": "execute_result"
    }
   ],
   "source": [
    "quick_bites_df['reviews_list']"
   ]
  },
  {
   "cell_type": "code",
   "execution_count": 55,
   "metadata": {},
   "outputs": [
    {
     "data": {
      "text/plain": [
       "'[ rated rated\\\\n great food and proper karnataka style full meals been there twice and was fully satisfied will give stars if it s well managed rated rated\\\\n reached the place at pm on saturday half of the items on the menu were over what was annoying was is the food was cold the taste was also very average only dosa and holige were good there were very few people in the restaurant and the service was still very slow the waiters were all standing in one corner and talking had to call them repeatedly rated rated\\\\n had been here good food served and tasty good place to go with freinds and family should be first to get served well with all food one of the good hotel there for this price rated rated\\\\n how can a udupi restaurant be so dirty the floor the walls the waiters are all stained in food why cant they clean it the floor even had decorative colour paper every where and lot of food now coming to the taste of the food it was pretty decent for what they chargw what upset us was the menu says they serve thambuli two variety of rice etc but they were all over at but they still charged us full amount lastly if u r ok to b seated with random people and adjust with their table manners burrping etc then tis place is decent for a quick veg udupi meals rated rated\\\\n aadhuri udupi bhojana is one of the best vegetarian hotel in and around banashankari locality\\\\nwere we can enjoy the authentic south karnataka style food rated rated\\\\n one of the best restaurants for unlimited food price for one full unlimited meal is and the service is awesome here if you \\\\x \\\\x \\\\x \\\\x \\\\x \\\\x \\\\x \\\\x re a costalian you will love the food served here rated rated\\\\n been here a couple of times highly satisfying on both the ocassions great food decent service at price of per person it is of a great value the staff here serves in a traditional mysore style dresses the food is authentic karnataka meals i really liked the pineapple pickle chutney they serve some varities of rice of which you shouldn t try all as you would already be full roti dosa were decent in the deserts payasam holige were good \\\\ni think it is one the must try places to try some authentic south food even if you have been to the likes of kamath etc this one is a little different rated rated\\\\n very good restorent good south indian food very nice all food s are good we spent good time and food in this hotel value of money we loved it rated rated\\\\n i went to this restaurant on sunday afternoon it was a bit crowded \\\\n\\\\nits located in the st floor above anna kuteera kathriguppe\\\\n\\\\nyou need to take food coupon in the ground floor itself \\\\nit was rs \\\\n\\\\ntaste wise it was good \\\\nservice was slow \\\\nnothing exciting different in the menu \\\\nwhatever they serve its good \\\\nworth for money rated rated\\\\n awesome place worth with price quality quantity service hygiene and discipline i loved it wish there were more rating stars to give i give on for sure rated rated\\\\n nice food good ambiance so many verity of food this time i was in hurry so next review will be detailed one its good to see all dishes at one place rated rated\\\\n the food was not satisfactory not one item served could be eaten again only advantage is the price but even that is not going to be enough to make me visit the place again dear udupi staff people wouldn \\\\x \\\\x \\\\x \\\\x \\\\x \\\\x \\\\x \\\\x t mind if the food quality was better for a higher price and please get more fans so that people won \\\\x \\\\x \\\\x \\\\x \\\\x \\\\x \\\\x \\\\x t have to deal with another disappointment of sweating while eating rated rated\\\\n excellent quality and taste more variety of authentic south indian food excellent service highly recommended worth the money we pay here rated rated\\\\n i m rating only because of the large number of items they serve for the price they charge while the taste is moderate the biggest turn off is the poor service and totally unresponsive staff they are either understaffed or poorly trained i didn t get to taste a few items thanks to their ever busy staff and ended eating what was served please learn the crowd management from other peers like maiyya and roti ghar rated rated\\\\n one of my colleagues suggested this place went there at pm and place wasnt crowded ambience is decent and cool a welcome drink appekai saru was served then started typical baale yele uta diffrerent types of palya kosambari and sides then came masala dosa pulka pulav veg rice bath masala dosa was very very tasty service is bit fast as people will be coming but they will make it slow if u tell them to then comes rice with sambar rasam daal tambali and yes dont forget to eat holige payasam and icecream service is very nice one best thing is all of this comes in just rs and its unlimited what else you want a must visit place for south indian foodie rated rated\\\\n been here last week with high expectations based on few reviews but utterly disappointed with the food quality taste i feel it s an overhyped place there are many better places in the vicinity for plantain leaf meal there was too much of waiting these staffs were too hurry in serving food asking people to finish meal leave quickly i can understand there is a waiting and staffs should approach in a positive way i will never go there again \\\\n\\\\nbangaloreepicure com rated rated\\\\n i have a confession being a south indian i distaste south indian food not that i hate it i don\\\\ t like it either but still made up my mind on sankaranti to have authentic south indian food visited adduri udupi bhojana because it was close to my place i just had a look at the menu told myself that i can do it i am not blessed with a tremendous appetite welcomed with the mango soup followed by the wide variety of dishes served i have developed the new love for pongal both sweet and khara i can still feel the taste of the ghee bursting in my mouth but it was kai holige that made my day crisp and soft not to forget food is served on a banana leaf that adds in more flavor and taste waiters are attentive and responsive the customer\\\\ s needs are monitored and addressed so much variety for just rs without compromising on quantity and quality and yes it is unlimited this visit turned out to be a surprise package rated rated\\\\n food is good \\\\nno parking\\\\nambience is average\\\\noverall its value for money if you looking for south indian food \\\\npreferred the tiffin items rated rated\\\\n been here last week with high expectations based on few reviews but utterly disappointed with the food quality taste i feel it s an overhyped place there are many better places in the vicinity for plantain leaf meal there was too much of waiting these staffs were too hurry in serving food asking people to finish meal leave quickly i can understand there is a waiting and staffs should approach in a positive way i will never go there again \\\\n\\\\nbangaloreepicure com rated rated\\\\n i have a confession being a south indian i distaste south indian food not that i hate it i don\\\\ t like it either but still made up my mind on sankaranti to have authentic south indian food visited adduri udupi bhojana because it was close to my place i just had a look at the menu told myself that i can do it i am not blessed with a tremendous appetite welcomed with the mango soup followed by the wide variety of dishes served i have developed the new love for pongal both sweet and khara i can still feel the taste of the ghee bursting in my mouth but it was kai holige that made my day crisp and soft not to forget food is served on a banana leaf that adds in more flavor and taste waiters are attentive and responsive the customer\\\\ s needs are monitored and addressed so much variety for just rs without compromising on quantity and quality and yes it is unlimited this visit turned out to be a surprise package rated rated\\\\n food is good \\\\nno parking\\\\nambience is average\\\\noverall its value for money if you looking for south indian food \\\\npreferred the tiffin items rated rated\\\\n been here last week with high expectations based on few reviews but utterly disappointed with the food quality taste i feel it s an overhyped place there are many better places in the vicinity for plantain leaf meal there was too much of waiting these staffs were too hurry in serving food asking people to finish meal leave quickly i can understand there is a waiting and staffs should approach in a positive way i will never go there again \\\\n\\\\nbangaloreepicure com rated rated\\\\n i have a confession being a south indian i distaste south indian food not that i hate it i don\\\\ t like it either but still made up my mind on sankaranti to have authentic south indian food visited adduri udupi bhojana because it was close to my place i just had a look at the menu told myself that i can do it i am not blessed with a tremendous appetite welcomed with the mango soup followed by the wide variety of dishes served i have developed the new love for pongal both sweet and khara i can still feel the taste of the ghee bursting in my mouth but it was kai holige that made my day crisp and soft not to forget food is served on a banana leaf that adds in more flavor and taste waiters are attentive and responsive the customer\\\\ s needs are monitored and addressed so much variety for just rs without compromising on quantity and quality and yes it is unlimited this visit turned out to be a surprise package rated rated\\\\n food is good \\\\nno parking\\\\nambience is average\\\\noverall its value for money if you looking for south indian food \\\\npreferred the tiffin items rated rated\\\\n been here last week with high expectations based on few reviews but utterly disappointed with the food quality taste i feel it s an overhyped place there are many better places in the vicinity for plantain leaf meal there was too much of waiting these staffs were too hurry in serving food asking people to finish meal leave quickly i can understand there is a waiting and staffs should approach in a positive way i will never go there again \\\\n\\\\nbangaloreepicure com rated rated\\\\n i have a confession being a south indian i distaste south indian food not that i hate it i don\\\\ t like it either but still made up my mind on sankaranti to have authentic south indian food visited adduri udupi bhojana because it was close to my place i just had a look at the menu told myself that i can do it i am not blessed with a tremendous appetite welcomed with the mango soup followed by the wide variety of dishes served i have developed the new love for pongal both sweet and khara i can still feel the taste of the ghee bursting in my mouth but it was kai holige that made my day crisp and soft not to forget food is served on a banana leaf that adds in more flavor and taste waiters are attentive and responsive the customer\\\\ s needs are monitored and addressed so much variety for just rs without compromising on quantity and quality and yes it is unlimited this visit turned out to be a surprise package rated rated\\\\n food is good \\\\nno parking\\\\nambience is average\\\\noverall its value for money if you looking for south indian food \\\\npreferred the tiffin items rated rated\\\\n been here last week with high expectations based on few reviews but utterly disappointed with the food quality taste i feel it s an overhyped place there are many better places in the vicinity for plantain leaf meal there was too much of waiting these staffs were too hurry in serving food asking people to finish meal leave quickly i can understand there is a waiting and staffs should approach in a positive way i will never go there again \\\\n\\\\nbangaloreepicure com rated rated\\\\n i have a confession being a south indian i distaste south indian food not that i hate it i don\\\\ t like it either but still made up my mind on sankaranti to have authentic south indian food visited adduri udupi bhojana because it was close to my place i just had a look at the menu told myself that i can do it i am not blessed with a tremendous appetite welcomed with the mango soup followed by the wide variety of dishes served i have developed the new love for pongal both sweet and khara i can still feel the taste of the ghee bursting in my mouth but it was kai holige that made my day crisp and soft not to forget food is served on a banana leaf that adds in more flavor and taste waiters are attentive and responsive the customer\\\\ s needs are monitored and addressed so much variety for just rs without compromising on quantity and quality and yes it is unlimited this visit turned out to be a surprise package rated rated\\\\n food is good \\\\nno parking\\\\nambience is average\\\\noverall its value for money if you looking for south indian food \\\\npreferred the tiffin items rated rated\\\\n had been on a week night for an authentic south indian food i personally love being served on banyan leaf the waiters are all dressed up in traditional mysore attire wearing with a peta the food was delicious and definitely worth it s price the waiters are friendly and serve u well with a smile the food is prepared without garlic which is a plus point attracting many senior customers rated rated\\\\n food is good and enjoyed with rs is very nice \\\\nnote it happen with us \\\\n if you going two people you may need to share the table there its almost crowed \\\\n you have to sit where they ask you can t choose even if all the table are empty \\\\njust wait eat and come back rated rated\\\\n excellent ambience with delicious meals with variety types worth paying for money and you can dine out if you are with more friends relatives in home rated rated\\\\n very good and unlimited especially masala dosa service and ambience was also good will visit again with friends very very reasonble and wholesome food rated rated\\\\n aaaa wt to tell unlimited food food was like exactly like south indian marriage food soups sides masala dosa all were unlimited for just except ice cream in the end they give a water bottle and main thing is have patience to get place to sit there is no parking place of this outlet and difficult to park in front of the restaurants ]'"
      ]
     },
     "execution_count": 55,
     "metadata": {},
     "output_type": "execute_result"
    }
   ],
   "source": [
    "from nltk.corpus import RegexpTokenizer\n",
    "tokenizer = RegexpTokenizer('[a-zA-z]+')\n",
    "' '.join(tokenizer.tokenize(quick_bites_df['reviews_list'][3]))"
   ]
  },
  {
   "cell_type": "code",
   "execution_count": 56,
   "metadata": {},
   "outputs": [],
   "source": [
    "reviews_tokens = quick_bites_df['reviews_list'].apply(tokenizer.tokenize)"
   ]
  },
  {
   "cell_type": "code",
   "execution_count": 57,
   "metadata": {},
   "outputs": [],
   "source": [
    "import string\n",
    "from nltk.corpus import stopwords"
   ]
  },
  {
   "cell_type": "code",
   "execution_count": 60,
   "metadata": {},
   "outputs": [],
   "source": [
    "stop_words = stopwords.words('english')\n",
    "stop_words.extend(list(string.punctuation))\n",
    "stop_words.extend(['[',']','rated', 'rated\\\\n','\\\\x'])"
   ]
  },
  {
   "cell_type": "code",
   "execution_count": 61,
   "metadata": {},
   "outputs": [],
   "source": [
    "reviews_tokens_clean = reviews_tokens.apply(lambda x : [word for word in x if word not in stop_words]) "
   ]
  },
  {
   "cell_type": "code",
   "execution_count": 62,
   "metadata": {},
   "outputs": [
    {
     "data": {
      "text/plain": [
       "3        [great, food, proper, karnataka, style, full, ...\n",
       "23       [went, friends, tea, ambience, striking, say, ...\n",
       "26       [please, provide, extra, sambal, quantity, les...\n",
       "31       [worst, restaurant, ever, veg, manchurian, wor...\n",
       "34       [worth, money, pay, ambience, good, enough, se...\n",
       "                               ...                        \n",
       "51641    [food, upto, mark, \\nquantity, food, little, \\...\n",
       "51642                                                 [[]]\n",
       "51643                                                 [[]]\n",
       "51644                                                 [[]]\n",
       "51645    [randomly, looking, zomato, burger, show, rest...\n",
       "Name: reviews_list, Length: 20639, dtype: object"
      ]
     },
     "execution_count": 62,
     "metadata": {},
     "output_type": "execute_result"
    }
   ],
   "source": [
    "reviews_tokens_clean"
   ]
  },
  {
   "cell_type": "markdown",
   "metadata": {},
   "source": [
    "## Unary Analysis\n"
   ]
  },
  {
   "cell_type": "code",
   "execution_count": 63,
   "metadata": {},
   "outputs": [],
   "source": [
    "total_reviews = [item for review in reviews_tokens_clean for item in review]"
   ]
  },
  {
   "cell_type": "code",
   "execution_count": 64,
   "metadata": {},
   "outputs": [],
   "source": [
    "from collections import Counter\n",
    "from nltk import FreqDist\n",
    "counter = Counter(total_reviews)\n",
    "fd = FreqDist(counter)"
   ]
  },
  {
   "cell_type": "code",
   "execution_count": 93,
   "metadata": {},
   "outputs": [
    {
     "data": {
      "text/plain": [
       "<Axes: xlabel='word'>"
      ]
     },
     "execution_count": 93,
     "metadata": {},
     "output_type": "execute_result"
    },
    {
     "data": {
      "image/png": "[encoded data removed]",
      "text/plain": [
       "<Figure size 640x480 with 1 Axes>"
      ]
     },
     "metadata": {},
     "output_type": "display_data"
    }
   ],
   "source": [
    "unary_df = pd.DataFrame(fd.most_common(20))\n",
    "unary_df.columns = ['word','count']\n",
    "unary_df.set_index('word', inplace=True)\n",
    "unary_df.plot(kind='bar')"
   ]
  },
  {
   "cell_type": "code",
   "execution_count": 71,
   "metadata": {},
   "outputs": [
    {
     "data": {
      "text/plain": [
       "<matplotlib.image.AxesImage at 0x1f41d07af90>"
      ]
     },
     "execution_count": 71,
     "metadata": {},
     "output_type": "execute_result"
    },
    {
     "data": {
      "image/png": "[encoded data removed]",
      "text/plain": [
       "<Figure size 640x480 with 1 Axes>"
      ]
     },
     "metadata": {},
     "output_type": "display_data"
    }
   ],
   "source": [
    "from wordcloud import WordCloud\n",
    "wordcloud = WordCloud().generate_from_frequencies(dict(counter))\n",
    "plt.imshow(wordcloud)"
   ]
  },
  {
   "cell_type": "markdown",
   "metadata": {},
   "source": [
    "#### Based on the visualizations, food, good, and place appear the most in the reviews. There does not seem to be any negative words in the top 20, but expanding from words to combination of words will help answer the question."
   ]
  },
  {
   "cell_type": "markdown",
   "metadata": {},
   "source": [
    "## Bigram and Trigram Analysis"
   ]
  },
  {
   "cell_type": "code",
   "execution_count": 95,
   "metadata": {},
   "outputs": [],
   "source": [
    "from nltk import bigrams\n",
    "\n",
    "items = list(bigrams(total_reviews))\n",
    "bigram_fd = FreqDist(items)"
   ]
  },
  {
   "cell_type": "code",
   "execution_count": 98,
   "metadata": {},
   "outputs": [],
   "source": [
    "bigram_df = pd.DataFrame(bigram_fd.most_common(10))"
   ]
  },
  {
   "cell_type": "code",
   "execution_count": 99,
   "metadata": {},
   "outputs": [
    {
     "data": {
      "text/plain": [
       "<Axes: xlabel='word'>"
      ]
     },
     "execution_count": 99,
     "metadata": {},
     "output_type": "execute_result"
    },
    {
     "data": {
      "image/png": "[encoded data removed]",
      "text/plain": [
       "<Figure size 640x480 with 1 Axes>"
      ]
     },
     "metadata": {},
     "output_type": "display_data"
    }
   ],
   "source": [
    "bigram_df.columns = ['word','count']\n",
    "bigram_df.set_index('word', inplace=True)\n",
    "bigram_df.plot(kind='bar')"
   ]
  },
  {
   "cell_type": "markdown",
   "metadata": {},
   "source": [
    "#### Based on the bigram analysis, the word combinations for the top 10 are positive. The quick bite restaurants seem to perform well."
   ]
  },
  {
   "cell_type": "code",
   "execution_count": 100,
   "metadata": {},
   "outputs": [],
   "source": [
    "from nltk import trigrams\n",
    "items = list(trigrams(total_reviews))\n",
    "trigram_fd = FreqDist(items)"
   ]
  },
  {
   "cell_type": "code",
   "execution_count": 101,
   "metadata": {},
   "outputs": [
    {
     "data": {
      "text/plain": [
       "<Axes: xlabel='word'>"
      ]
     },
     "execution_count": 101,
     "metadata": {},
     "output_type": "execute_result"
    },
    {
     "data": {
      "image/png": "[encoded data removed]",
      "text/plain": [
       "<Figure size 640x480 with 1 Axes>"
      ]
     },
     "metadata": {},
     "output_type": "display_data"
    }
   ],
   "source": [
    "trigram_df = pd.DataFrame(trigram_fd.most_common(10))\n",
    "trigram_df.columns = ['word','count']\n",
    "trigram_df.set_index('word', inplace=True)\n",
    "trigram_df.plot(kind='bar')"
   ]
  },
  {
   "cell_type": "code",
   "execution_count": 102,
   "metadata": {},
   "outputs": [
    {
     "data": {
      "text/plain": [
       "[(('\\\\xa', '\\\\xa', '\\\\xa'), 5019),\n",
       " (('north', 'indian', 'food'), 3056),\n",
       " (('f', 'f', 'f'), 2550),\n",
       " (('paneer', 'butter', 'masala'), 1638),\n",
       " (('must', 'visit', 'place'), 1594),\n",
       " (('south', 'indian', 'food'), 1484),\n",
       " (('good', 'food', 'good'), 1329),\n",
       " (('ordered', 'chicken', 'biryani'), 1273),\n",
       " (('pocket', 'friendly', 'place'), 1057),\n",
       " (('f', 'c', 'f'), 1034),\n",
       " (('chicken', 'fried', 'rice'), 1033),\n",
       " (('food', 'really', 'good'), 1011),\n",
       " (('[]', '[]', '[]'), 1000),\n",
       " (('veg', 'non', 'veg'), 992),\n",
       " (('worst', 'food', 'ever'), 937),\n",
       " (('must', 'try', 'place'), 895),\n",
       " (('like', 'home', 'made'), 889),\n",
       " (('good', 'taste', 'good'), 819),\n",
       " (('south', 'indian', 'breakfast'), 816),\n",
       " (('good', 'value', 'money'), 778),\n",
       " (('home', 'made', 'food'), 759),\n",
       " (('food', 'reasonable', 'price'), 740),\n",
       " (('good', 'quality', 'food'), 729),\n",
       " (('ghar', 'ka', 'khana'), 693),\n",
       " (('keep', 'good', 'work'), 692),\n",
       " (('taste', 'really', 'good'), 686),\n",
       " (('home', 'cooked', 'food'), 651),\n",
       " (('quality', 'food', 'good'), 648),\n",
       " (('food', 'quality', 'good'), 624),\n",
       " (('worth', 'every', 'penny'), 613)]"
      ]
     },
     "execution_count": 102,
     "metadata": {},
     "output_type": "execute_result"
    }
   ],
   "source": [
    "trigram_fd.most_common(30)"
   ]
  },
  {
   "cell_type": "markdown",
   "metadata": {},
   "source": [
    "#### Trigram analysis further proves the restaurant is performing well. Some bad data like the (\\\\xa, \\\\xa, \\\\xa) and (f,f,f) are present, but the looking at the top 30, our observation still holds"
   ]
  },
  {
   "cell_type": "markdown",
   "metadata": {},
   "source": [
    "## Plot restaurants on the map"
   ]
  },
  {
   "cell_type": "markdown",
   "metadata": {},
   "source": [
    "### Obtain geographical coordinates"
   ]
  },
  {
   "cell_type": "code",
   "execution_count": 153,
   "metadata": {},
   "outputs": [],
   "source": [
    "location_df = df.dropna(subset=['location'])\n",
    "location_df['location'] = location_df['location'] + \" , Bangalore  , Karnataka , India \""
   ]
  },
  {
   "cell_type": "code",
   "execution_count": 154,
   "metadata": {},
   "outputs": [],
   "source": [
    "from geopy.geocoders import Nominatim\n",
    "\n",
    "geolocator = Nominatim(user_agent=\"app\", timeout=None)\n",
    "lat = []\n",
    "long = []\n",
    "for location in location_df['location'].unique():\n",
    "    location = geolocator.geocode(location)\n",
    "    if location is None:\n",
    "        lat.append(np.nan)\n",
    "        long.append(np.nan)\n",
    "    else:\n",
    "        lat.append(location.latitude)\n",
    "        long.append(location.longitude)"
   ]
  },
  {
   "cell_type": "code",
   "execution_count": 155,
   "metadata": {},
   "outputs": [
    {
     "data": {
      "text/html": [
       "<div>\n",
       "<style scoped>\n",
       "    .dataframe tbody tr th:only-of-type {\n",
       "        vertical-align: middle;\n",
       "    }\n",
       "\n",
       "    .dataframe tbody tr th {\n",
       "        vertical-align: top;\n",
       "    }\n",
       "\n",
       "    .dataframe thead th {\n",
       "        text-align: right;\n",
       "    }\n",
       "</style>\n",
       "<table border=\"1\" class=\"dataframe\">\n",
       "  <thead>\n",
       "    <tr style=\"text-align: right;\">\n",
       "      <th></th>\n",
       "      <th>name</th>\n",
       "      <th>latitude</th>\n",
       "      <th>longitude</th>\n",
       "    </tr>\n",
       "  </thead>\n",
       "  <tbody>\n",
       "    <tr>\n",
       "      <th>0</th>\n",
       "      <td>Banashankari , Bangalore  , Karnataka , India</td>\n",
       "      <td>12.939333</td>\n",
       "      <td>77.553982</td>\n",
       "    </tr>\n",
       "    <tr>\n",
       "      <th>1</th>\n",
       "      <td>Basavanagudi , Bangalore  , Karnataka , India</td>\n",
       "      <td>12.941726</td>\n",
       "      <td>77.575502</td>\n",
       "    </tr>\n",
       "    <tr>\n",
       "      <th>2</th>\n",
       "      <td>Mysore Road , Bangalore  , Karnataka , India</td>\n",
       "      <td>12.960494</td>\n",
       "      <td>77.556961</td>\n",
       "    </tr>\n",
       "    <tr>\n",
       "      <th>3</th>\n",
       "      <td>Jayanagar , Bangalore  , Karnataka , India</td>\n",
       "      <td>12.941849</td>\n",
       "      <td>77.586898</td>\n",
       "    </tr>\n",
       "    <tr>\n",
       "      <th>4</th>\n",
       "      <td>Kumaraswamy Layout , Bangalore  , Karnataka , ...</td>\n",
       "      <td>12.906768</td>\n",
       "      <td>77.559502</td>\n",
       "    </tr>\n",
       "    <tr>\n",
       "      <th>...</th>\n",
       "      <td>...</td>\n",
       "      <td>...</td>\n",
       "      <td>...</td>\n",
       "    </tr>\n",
       "    <tr>\n",
       "      <th>88</th>\n",
       "      <td>West Bangalore , Bangalore  , Karnataka , India</td>\n",
       "      <td>13.009476</td>\n",
       "      <td>77.553089</td>\n",
       "    </tr>\n",
       "    <tr>\n",
       "      <th>89</th>\n",
       "      <td>Magadi Road , Bangalore  , Karnataka , India</td>\n",
       "      <td>12.975608</td>\n",
       "      <td>77.555356</td>\n",
       "    </tr>\n",
       "    <tr>\n",
       "      <th>90</th>\n",
       "      <td>Yelahanka , Bangalore  , Karnataka , India</td>\n",
       "      <td>13.100698</td>\n",
       "      <td>77.596345</td>\n",
       "    </tr>\n",
       "    <tr>\n",
       "      <th>91</th>\n",
       "      <td>Sahakara Nagar , Bangalore  , Karnataka , India</td>\n",
       "      <td>13.062147</td>\n",
       "      <td>77.580061</td>\n",
       "    </tr>\n",
       "    <tr>\n",
       "      <th>92</th>\n",
       "      <td>Peenya , Bangalore  , Karnataka , India</td>\n",
       "      <td>13.032942</td>\n",
       "      <td>77.527325</td>\n",
       "    </tr>\n",
       "  </tbody>\n",
       "</table>\n",
       "<p>93 rows × 3 columns</p>\n",
       "</div>"
      ],
      "text/plain": [
       "                                                 name   latitude  longitude\n",
       "0      Banashankari , Bangalore  , Karnataka , India   12.939333  77.553982\n",
       "1      Basavanagudi , Bangalore  , Karnataka , India   12.941726  77.575502\n",
       "2       Mysore Road , Bangalore  , Karnataka , India   12.960494  77.556961\n",
       "3         Jayanagar , Bangalore  , Karnataka , India   12.941849  77.586898\n",
       "4   Kumaraswamy Layout , Bangalore  , Karnataka , ...  12.906768  77.559502\n",
       "..                                                ...        ...        ...\n",
       "88   West Bangalore , Bangalore  , Karnataka , India   13.009476  77.553089\n",
       "89      Magadi Road , Bangalore  , Karnataka , India   12.975608  77.555356\n",
       "90        Yelahanka , Bangalore  , Karnataka , India   13.100698  77.596345\n",
       "91   Sahakara Nagar , Bangalore  , Karnataka , India   13.062147  77.580061\n",
       "92           Peenya , Bangalore  , Karnataka , India   13.032942  77.527325\n",
       "\n",
       "[93 rows x 3 columns]"
      ]
     },
     "execution_count": 155,
     "metadata": {},
     "output_type": "execute_result"
    }
   ],
   "source": [
    "locations = pd.DataFrame(location_df['location'].unique())\n",
    "locations['latitude'] = lat\n",
    "locations['longitude'] = long\n",
    "locations.rename(columns={0:'name'},inplace=True)\n",
    "locations"
   ]
  },
  {
   "cell_type": "code",
   "execution_count": 156,
   "metadata": {},
   "outputs": [
    {
     "data": {
      "text/html": [
       "<div>\n",
       "<style scoped>\n",
       "    .dataframe tbody tr th:only-of-type {\n",
       "        vertical-align: middle;\n",
       "    }\n",
       "\n",
       "    .dataframe tbody tr th {\n",
       "        vertical-align: top;\n",
       "    }\n",
       "\n",
       "    .dataframe thead th {\n",
       "        text-align: right;\n",
       "    }\n",
       "</style>\n",
       "<table border=\"1\" class=\"dataframe\">\n",
       "  <thead>\n",
       "    <tr style=\"text-align: right;\">\n",
       "      <th></th>\n",
       "      <th>name</th>\n",
       "      <th>latitude</th>\n",
       "      <th>longitude</th>\n",
       "    </tr>\n",
       "  </thead>\n",
       "  <tbody>\n",
       "    <tr>\n",
       "      <th>79</th>\n",
       "      <td>Rammurthy Nagar , Bangalore  , Karnataka , India</td>\n",
       "      <td>NaN</td>\n",
       "      <td>NaN</td>\n",
       "    </tr>\n",
       "    <tr>\n",
       "      <th>85</th>\n",
       "      <td>Sadashiv Nagar , Bangalore  , Karnataka , India</td>\n",
       "      <td>NaN</td>\n",
       "      <td>NaN</td>\n",
       "    </tr>\n",
       "  </tbody>\n",
       "</table>\n",
       "</div>"
      ],
      "text/plain": [
       "                                                 name  latitude  longitude\n",
       "79  Rammurthy Nagar , Bangalore  , Karnataka , India        NaN        NaN\n",
       "85   Sadashiv Nagar , Bangalore  , Karnataka , India        NaN        NaN"
      ]
     },
     "execution_count": 156,
     "metadata": {},
     "output_type": "execute_result"
    }
   ],
   "source": [
    "locations[locations['latitude'].isna() | locations['longitude'].isna()]"
   ]
  },
  {
   "cell_type": "markdown",
   "metadata": {},
   "source": [
    "##### Since the latitude and logitude for these two locations are null, I will manually search them and append their locations"
   ]
  },
  {
   "cell_type": "code",
   "execution_count": 141,
   "metadata": {},
   "outputs": [],
   "source": [
    "import warnings\n",
    "warnings.filterwarnings('ignore')"
   ]
  },
  {
   "cell_type": "code",
   "execution_count": 157,
   "metadata": {},
   "outputs": [],
   "source": [
    "locations['longitude'][79] = 13.0163\n",
    "locations['latitude'][79]=77.6785\n",
    "locations['latitude'][85] = 13.0068\n",
    "locations['longitude'][85] = 77.5813"
   ]
  },
  {
   "cell_type": "markdown",
   "metadata": {},
   "source": [
    "### Get the number of north indian restaurants for each locations and join them to the loaction table"
   ]
  },
  {
   "cell_type": "code",
   "execution_count": 158,
   "metadata": {},
   "outputs": [],
   "source": [
    "df['cuisines'].isnull().sum()\n",
    "north_india = df.dropna(subset='cuisines')\n",
    "north_india = north_india[north_india['cuisines'].str.contains(\"North Indian\")]"
   ]
  },
  {
   "cell_type": "code",
   "execution_count": 159,
   "metadata": {},
   "outputs": [],
   "source": [
    "north_india_counts = north_india['location'].value_counts().reset_index().rename(columns={'location':'name'})"
   ]
  },
  {
   "cell_type": "code",
   "execution_count": 160,
   "metadata": {},
   "outputs": [],
   "source": [
    "north_india_counts.columns = ['name','count']\n",
    "north_india_counts['name'] = north_india_counts['name'] + \" , Bangalore  , Karnataka , India \""
   ]
  },
  {
   "cell_type": "code",
   "execution_count": 163,
   "metadata": {},
   "outputs": [],
   "source": [
    "heatmap_df = locations.merge(north_india_counts, on='name', how='left')\n",
    "heatmap_df.dropna(subset='count', inplace=True)"
   ]
  },
  {
   "cell_type": "code",
   "execution_count": 164,
   "metadata": {},
   "outputs": [
    {
     "data": {
      "text/html": [
       "<div>\n",
       "<style scoped>\n",
       "    .dataframe tbody tr th:only-of-type {\n",
       "        vertical-align: middle;\n",
       "    }\n",
       "\n",
       "    .dataframe tbody tr th {\n",
       "        vertical-align: top;\n",
       "    }\n",
       "\n",
       "    .dataframe thead th {\n",
       "        text-align: right;\n",
       "    }\n",
       "</style>\n",
       "<table border=\"1\" class=\"dataframe\">\n",
       "  <thead>\n",
       "    <tr style=\"text-align: right;\">\n",
       "      <th></th>\n",
       "      <th>name</th>\n",
       "      <th>latitude</th>\n",
       "      <th>longitude</th>\n",
       "      <th>count</th>\n",
       "    </tr>\n",
       "  </thead>\n",
       "  <tbody>\n",
       "    <tr>\n",
       "      <th>0</th>\n",
       "      <td>Banashankari , Bangalore  , Karnataka , India</td>\n",
       "      <td>12.939333</td>\n",
       "      <td>77.553982</td>\n",
       "      <td>309.0</td>\n",
       "    </tr>\n",
       "    <tr>\n",
       "      <th>1</th>\n",
       "      <td>Basavanagudi , Bangalore  , Karnataka , India</td>\n",
       "      <td>12.941726</td>\n",
       "      <td>77.575502</td>\n",
       "      <td>189.0</td>\n",
       "    </tr>\n",
       "    <tr>\n",
       "      <th>2</th>\n",
       "      <td>Mysore Road , Bangalore  , Karnataka , India</td>\n",
       "      <td>12.960494</td>\n",
       "      <td>77.556961</td>\n",
       "      <td>11.0</td>\n",
       "    </tr>\n",
       "    <tr>\n",
       "      <th>3</th>\n",
       "      <td>Jayanagar , Bangalore  , Karnataka , India</td>\n",
       "      <td>12.941849</td>\n",
       "      <td>77.586898</td>\n",
       "      <td>664.0</td>\n",
       "    </tr>\n",
       "    <tr>\n",
       "      <th>4</th>\n",
       "      <td>Kumaraswamy Layout , Bangalore  , Karnataka , ...</td>\n",
       "      <td>12.906768</td>\n",
       "      <td>77.559502</td>\n",
       "      <td>98.0</td>\n",
       "    </tr>\n",
       "    <tr>\n",
       "      <th>...</th>\n",
       "      <td>...</td>\n",
       "      <td>...</td>\n",
       "      <td>...</td>\n",
       "      <td>...</td>\n",
       "    </tr>\n",
       "    <tr>\n",
       "      <th>87</th>\n",
       "      <td>Yeshwantpur , Bangalore  , Karnataka , India</td>\n",
       "      <td>13.023830</td>\n",
       "      <td>77.552921</td>\n",
       "      <td>72.0</td>\n",
       "    </tr>\n",
       "    <tr>\n",
       "      <th>88</th>\n",
       "      <td>West Bangalore , Bangalore  , Karnataka , India</td>\n",
       "      <td>13.009476</td>\n",
       "      <td>77.553089</td>\n",
       "      <td>1.0</td>\n",
       "    </tr>\n",
       "    <tr>\n",
       "      <th>89</th>\n",
       "      <td>Magadi Road , Bangalore  , Karnataka , India</td>\n",
       "      <td>12.975608</td>\n",
       "      <td>77.555356</td>\n",
       "      <td>12.0</td>\n",
       "    </tr>\n",
       "    <tr>\n",
       "      <th>91</th>\n",
       "      <td>Sahakara Nagar , Bangalore  , Karnataka , India</td>\n",
       "      <td>13.062147</td>\n",
       "      <td>77.580061</td>\n",
       "      <td>13.0</td>\n",
       "    </tr>\n",
       "    <tr>\n",
       "      <th>92</th>\n",
       "      <td>Peenya , Bangalore  , Karnataka , India</td>\n",
       "      <td>13.032942</td>\n",
       "      <td>77.527325</td>\n",
       "      <td>1.0</td>\n",
       "    </tr>\n",
       "  </tbody>\n",
       "</table>\n",
       "<p>90 rows × 4 columns</p>\n",
       "</div>"
      ],
      "text/plain": [
       "                                                 name   latitude  longitude  \\\n",
       "0      Banashankari , Bangalore  , Karnataka , India   12.939333  77.553982   \n",
       "1      Basavanagudi , Bangalore  , Karnataka , India   12.941726  77.575502   \n",
       "2       Mysore Road , Bangalore  , Karnataka , India   12.960494  77.556961   \n",
       "3         Jayanagar , Bangalore  , Karnataka , India   12.941849  77.586898   \n",
       "4   Kumaraswamy Layout , Bangalore  , Karnataka , ...  12.906768  77.559502   \n",
       "..                                                ...        ...        ...   \n",
       "87      Yeshwantpur , Bangalore  , Karnataka , India   13.023830  77.552921   \n",
       "88   West Bangalore , Bangalore  , Karnataka , India   13.009476  77.553089   \n",
       "89      Magadi Road , Bangalore  , Karnataka , India   12.975608  77.555356   \n",
       "91   Sahakara Nagar , Bangalore  , Karnataka , India   13.062147  77.580061   \n",
       "92           Peenya , Bangalore  , Karnataka , India   13.032942  77.527325   \n",
       "\n",
       "    count  \n",
       "0   309.0  \n",
       "1   189.0  \n",
       "2    11.0  \n",
       "3   664.0  \n",
       "4    98.0  \n",
       "..    ...  \n",
       "87   72.0  \n",
       "88    1.0  \n",
       "89   12.0  \n",
       "91   13.0  \n",
       "92    1.0  \n",
       "\n",
       "[90 rows x 4 columns]"
      ]
     },
     "execution_count": 164,
     "metadata": {},
     "output_type": "execute_result"
    }
   ],
   "source": [
    "heatmap_df"
   ]
  },
  {
   "cell_type": "markdown",
   "metadata": {},
   "source": [
    "### Use Folium heatmap to show restaurants on a global map."
   ]
  },
  {
   "cell_type": "code",
   "execution_count": 166,
   "metadata": {},
   "outputs": [],
   "source": [
    "import folium\n",
    "from folium.plugins import HeatMap"
   ]
  },
  {
   "cell_type": "code",
   "execution_count": 171,
   "metadata": {},
   "outputs": [
    {
     "data": {
      "text/html": [
       "<div style=\"width:100%;\"><div style=\"position:relative;width:100%;height:0;padding-bottom:60%;\"><span style=\"color:#565656\">Make this Notebook Trusted to load map: File -> Trust Notebook</span><iframe srcdoc=\"&lt;!DOCTYPE html&gt;\n",
       "&lt;html&gt;\n",
       "&lt;head&gt;\n",
       "    \n",
       "    &lt;meta http-equiv=&quot;content-type&quot; content=&quot;text/html; charset=UTF-8&quot; /&gt;\n",
       "    \n",
       "        &lt;script&gt;\n",
       "            L_NO_TOUCH = false;\n",
       "            L_DISABLE_3D = false;\n",
       "        &lt;/script&gt;\n",
       "    \n",
       "    &lt;style&gt;html, body {width: 100%;height: 100%;margin: 0;padding: 0;}&lt;/style&gt;\n",
       "    &lt;style&gt;#map {position:absolute;top:0;bottom:0;right:0;left:0;}&lt;/style&gt;\n",
       "    &lt;script src=&quot;https://cdn.jsdelivr.net/npm/leaflet@1.9.3/dist/leaflet.js&quot;&gt;&lt;/script&gt;\n",
       "    &lt;script src=&quot;https://code.jquery.com/jquery-3.7.1.min.js&quot;&gt;&lt;/script&gt;\n",
       "    &lt;script src=&quot;https://cdn.jsdelivr.net/npm/bootstrap@5.2.2/dist/js/bootstrap.bundle.min.js&quot;&gt;&lt;/script&gt;\n",
       "    &lt;script src=&quot;https://cdnjs.cloudflare.com/ajax/libs/Leaflet.awesome-markers/2.0.2/leaflet.awesome-markers.js&quot;&gt;&lt;/script&gt;\n",
       "    &lt;link rel=&quot;stylesheet&quot; href=&quot;https://cdn.jsdelivr.net/npm/leaflet@1.9.3/dist/leaflet.css&quot;/&gt;\n",
       "    &lt;link rel=&quot;stylesheet&quot; href=&quot;https://cdn.jsdelivr.net/npm/bootstrap@5.2.2/dist/css/bootstrap.min.css&quot;/&gt;\n",
       "    &lt;link rel=&quot;stylesheet&quot; href=&quot;https://netdna.bootstrapcdn.com/bootstrap/3.0.0/css/bootstrap.min.css&quot;/&gt;\n",
       "    &lt;link rel=&quot;stylesheet&quot; href=&quot;https://cdn.jsdelivr.net/npm/@fortawesome/fontawesome-free@6.2.0/css/all.min.css&quot;/&gt;\n",
       "    &lt;link rel=&quot;stylesheet&quot; href=&quot;https://cdnjs.cloudflare.com/ajax/libs/Leaflet.awesome-markers/2.0.2/leaflet.awesome-markers.css&quot;/&gt;\n",
       "    &lt;link rel=&quot;stylesheet&quot; href=&quot;https://cdn.jsdelivr.net/gh/python-visualization/folium/folium/templates/leaflet.awesome.rotate.min.css&quot;/&gt;\n",
       "    \n",
       "            &lt;meta name=&quot;viewport&quot; content=&quot;width=device-width,\n",
       "                initial-scale=1.0, maximum-scale=1.0, user-scalable=no&quot; /&gt;\n",
       "            &lt;style&gt;\n",
       "                #map_5dea82818508e10510145839704ca492 {\n",
       "                    position: relative;\n",
       "                    width: 100.0%;\n",
       "                    height: 100.0%;\n",
       "                    left: 0.0%;\n",
       "                    top: 0.0%;\n",
       "                }\n",
       "                .leaflet-container { font-size: 1rem; }\n",
       "            &lt;/style&gt;\n",
       "        \n",
       "&lt;/head&gt;\n",
       "&lt;body&gt;\n",
       "    \n",
       "    \n",
       "            &lt;div class=&quot;folium-map&quot; id=&quot;map_5dea82818508e10510145839704ca492&quot; &gt;&lt;/div&gt;\n",
       "        \n",
       "&lt;/body&gt;\n",
       "&lt;script&gt;\n",
       "    \n",
       "    \n",
       "            var map_5dea82818508e10510145839704ca492 = L.map(\n",
       "                &quot;map_5dea82818508e10510145839704ca492&quot;,\n",
       "                {\n",
       "                    center: [13.689991942777775, 76.89390137228817],\n",
       "                    crs: L.CRS.EPSG3857,\n",
       "                    zoom: 4,\n",
       "                    zoomControl: true,\n",
       "                    preferCanvas: false,\n",
       "                }\n",
       "            );\n",
       "\n",
       "            \n",
       "\n",
       "        \n",
       "    \n",
       "            var tile_layer_151146d5f9b102d02e93acaeb917ca86 = L.tileLayer(\n",
       "                &quot;https://tile.openstreetmap.org/{z}/{x}/{y}.png&quot;,\n",
       "                {&quot;attribution&quot;: &quot;\\u0026copy; \\u003ca href=\\&quot;https://www.openstreetmap.org/copyright\\&quot;\\u003eOpenStreetMap\\u003c/a\\u003e contributors&quot;, &quot;detectRetina&quot;: false, &quot;maxNativeZoom&quot;: 19, &quot;maxZoom&quot;: 19, &quot;minZoom&quot;: 0, &quot;noWrap&quot;: false, &quot;opacity&quot;: 1, &quot;subdomains&quot;: &quot;abc&quot;, &quot;tms&quot;: false}\n",
       "            );\n",
       "        \n",
       "    \n",
       "            tile_layer_151146d5f9b102d02e93acaeb917ca86.addTo(map_5dea82818508e10510145839704ca492);\n",
       "        \n",
       "&lt;/script&gt;\n",
       "&lt;/html&gt;\" style=\"position:absolute;width:100%;height:100%;left:0;top:0;border:none !important;\" allowfullscreen webkitallowfullscreen mozallowfullscreen></iframe></div></div>"
      ],
      "text/plain": [
       "<folium.folium.Map at 0x1f4a50366d0>"
      ]
     },
     "execution_count": 171,
     "metadata": {},
     "output_type": "execute_result"
    }
   ],
   "source": [
    "# Create a base map centered around the mean latitude and longitude\n",
    "basemap = folium.Map(location=[heatmap_df['latitude'].mean(), heatmap_df['longitude'].mean()], zoom_start=4)\n",
    "basemap"
   ]
  },
  {
   "cell_type": "code",
   "execution_count": 172,
   "metadata": {},
   "outputs": [
    {
     "data": {
      "text/plain": [
       "<folium.plugins.heat_map.HeatMap at 0x1f4a52ff850>"
      ]
     },
     "execution_count": 172,
     "metadata": {},
     "output_type": "execute_result"
    }
   ],
   "source": [
    "# Convert DataFrame to list of tuples (latitude, longitude, count)\n",
    "heat_data = heatmap_df[['latitude','longitude','count']]\n",
    "\n",
    "# Add heatmap layer to the base map\n",
    "HeatMap(heat_data).add_to(basemap)"
   ]
  },
  {
   "cell_type": "code",
   "execution_count": 208,
   "metadata": {},
   "outputs": [
    {
     "data": {
      "text/html": [
       "<div style=\"width:100%;\"><div style=\"position:relative;width:100%;height:0;padding-bottom:60%;\"><span style=\"color:#565656\">Make this Notebook Trusted to load map: File -> Trust Notebook</span><iframe srcdoc=\"&lt;!DOCTYPE html&gt;\n",
       "&lt;html&gt;\n",
       "&lt;head&gt;\n",
       "    \n",
       "    &lt;meta http-equiv=&quot;content-type&quot; content=&quot;text/html; charset=UTF-8&quot; /&gt;\n",
       "    \n",
       "        &lt;script&gt;\n",
       "            L_NO_TOUCH = false;\n",
       "            L_DISABLE_3D = false;\n",
       "        &lt;/script&gt;\n",
       "    \n",
       "    &lt;style&gt;html, body {width: 100%;height: 100%;margin: 0;padding: 0;}&lt;/style&gt;\n",
       "    &lt;style&gt;#map {position:absolute;top:0;bottom:0;right:0;left:0;}&lt;/style&gt;\n",
       "    &lt;script src=&quot;https://cdn.jsdelivr.net/npm/leaflet@1.9.3/dist/leaflet.js&quot;&gt;&lt;/script&gt;\n",
       "    &lt;script src=&quot;https://code.jquery.com/jquery-3.7.1.min.js&quot;&gt;&lt;/script&gt;\n",
       "    &lt;script src=&quot;https://cdn.jsdelivr.net/npm/bootstrap@5.2.2/dist/js/bootstrap.bundle.min.js&quot;&gt;&lt;/script&gt;\n",
       "    &lt;script src=&quot;https://cdnjs.cloudflare.com/ajax/libs/Leaflet.awesome-markers/2.0.2/leaflet.awesome-markers.js&quot;&gt;&lt;/script&gt;\n",
       "    &lt;link rel=&quot;stylesheet&quot; href=&quot;https://cdn.jsdelivr.net/npm/leaflet@1.9.3/dist/leaflet.css&quot;/&gt;\n",
       "    &lt;link rel=&quot;stylesheet&quot; href=&quot;https://cdn.jsdelivr.net/npm/bootstrap@5.2.2/dist/css/bootstrap.min.css&quot;/&gt;\n",
       "    &lt;link rel=&quot;stylesheet&quot; href=&quot;https://netdna.bootstrapcdn.com/bootstrap/3.0.0/css/bootstrap.min.css&quot;/&gt;\n",
       "    &lt;link rel=&quot;stylesheet&quot; href=&quot;https://cdn.jsdelivr.net/npm/@fortawesome/fontawesome-free@6.2.0/css/all.min.css&quot;/&gt;\n",
       "    &lt;link rel=&quot;stylesheet&quot; href=&quot;https://cdnjs.cloudflare.com/ajax/libs/Leaflet.awesome-markers/2.0.2/leaflet.awesome-markers.css&quot;/&gt;\n",
       "    &lt;link rel=&quot;stylesheet&quot; href=&quot;https://cdn.jsdelivr.net/gh/python-visualization/folium/folium/templates/leaflet.awesome.rotate.min.css&quot;/&gt;\n",
       "    \n",
       "            &lt;meta name=&quot;viewport&quot; content=&quot;width=device-width,\n",
       "                initial-scale=1.0, maximum-scale=1.0, user-scalable=no&quot; /&gt;\n",
       "            &lt;style&gt;\n",
       "                #map_5dea82818508e10510145839704ca492 {\n",
       "                    position: relative;\n",
       "                    width: 100.0%;\n",
       "                    height: 100.0%;\n",
       "                    left: 0.0%;\n",
       "                    top: 0.0%;\n",
       "                }\n",
       "                .leaflet-container { font-size: 1rem; }\n",
       "            &lt;/style&gt;\n",
       "        \n",
       "    &lt;script src=&quot;https://cdn.jsdelivr.net/gh/python-visualization/folium@main/folium/templates/leaflet_heat.min.js&quot;&gt;&lt;/script&gt;\n",
       "&lt;/head&gt;\n",
       "&lt;body&gt;\n",
       "    \n",
       "    \n",
       "            &lt;div class=&quot;folium-map&quot; id=&quot;map_5dea82818508e10510145839704ca492&quot; &gt;&lt;/div&gt;\n",
       "        \n",
       "&lt;/body&gt;\n",
       "&lt;script&gt;\n",
       "    \n",
       "    \n",
       "            var map_5dea82818508e10510145839704ca492 = L.map(\n",
       "                &quot;map_5dea82818508e10510145839704ca492&quot;,\n",
       "                {\n",
       "                    center: [13.689991942777775, 76.89390137228817],\n",
       "                    crs: L.CRS.EPSG3857,\n",
       "                    zoom: 4,\n",
       "                    zoomControl: true,\n",
       "                    preferCanvas: false,\n",
       "                }\n",
       "            );\n",
       "\n",
       "            \n",
       "\n",
       "        \n",
       "    \n",
       "            var tile_layer_151146d5f9b102d02e93acaeb917ca86 = L.tileLayer(\n",
       "                &quot;https://tile.openstreetmap.org/{z}/{x}/{y}.png&quot;,\n",
       "                {&quot;attribution&quot;: &quot;\\u0026copy; \\u003ca href=\\&quot;https://www.openstreetmap.org/copyright\\&quot;\\u003eOpenStreetMap\\u003c/a\\u003e contributors&quot;, &quot;detectRetina&quot;: false, &quot;maxNativeZoom&quot;: 19, &quot;maxZoom&quot;: 19, &quot;minZoom&quot;: 0, &quot;noWrap&quot;: false, &quot;opacity&quot;: 1, &quot;subdomains&quot;: &quot;abc&quot;, &quot;tms&quot;: false}\n",
       "            );\n",
       "        \n",
       "    \n",
       "            tile_layer_151146d5f9b102d02e93acaeb917ca86.addTo(map_5dea82818508e10510145839704ca492);\n",
       "        \n",
       "    \n",
       "            tile_layer_151146d5f9b102d02e93acaeb917ca86.addTo(map_5dea82818508e10510145839704ca492);\n",
       "        \n",
       "    \n",
       "            var heat_map_94a73f92072a58ba1856e5e1a90f20d9 = L.heatLayer(\n",
       "                [[12.9393328, 77.5539819, 309.0], [12.9417261, 77.5755021, 189.0], [12.9604945, 77.5569608, 11.0], [12.9418488, 77.5868976, 664.0], [12.9067683, 77.5595021, 98.0], [12.9660722, 77.6125940647638, 35.0], [12.9039566, 77.5096235, 13.0], [12.9096941, 77.5866067, 958.0], [12.864107149999999, 77.55441638924378, 31.0], [12.965717999999999, 77.5762705372058, 58.0], [12.9812956, 77.5186888, 5.0], [12.9366292, 77.6014714, 701.0], [12.911275849999999, 77.60456543431182, 2469.0], [12.9368751, 77.5753517, 16.0], [12.9089453, 77.6239038, 129.0], [12.9855509, 77.668072, 30.0], [12.848759900000001, 77.64825295827616, 675.0], [12.9116225, 77.6388622, 1123.0], [12.9552572, 77.6984163, 1038.0], [12.9237639, 77.6540735, 529.0], [12.9489339, 77.5968273, 132.0], [12.9575547, 77.5979099, 223.0], [12.9348429, 77.6189768, 755.0], [12.9408685, 77.617338, 103.0], [12.9700474, 77.6171042, 312.0], [12.9364846, 77.6134783, 390.0], [13.0394104, 77.5197351, 19.0], [12.9327778, 77.6294052, 351.0], [12.93103185, 77.6782471, 659.0], [12.9696365, 77.7497448, 1059.0], [13.001147, 77.61822712748447, 14.0], [12.9604498, 77.642725, 214.0], [12.9732913, 77.6404672, 678.0], [12.9277245, 77.6327822, 601.0], [12.9986827, 77.615525, 201.0], [13.0227204, 77.595715, 51.0], [12.9755264, 77.6067902, 359.0], [12.9672765, 77.6065676, 323.0], [12.9683054, 77.5964883, 128.0], [12.9749032, 77.6052899, 173.0], [12.9778793, 77.6246697, 376.0], [12.9735743, 77.6104297, 214.0], [12.986391, 77.6075416, 272.0], [12.9821293, 77.5988521, 61.0], [12.9744255, 77.6015301, 121.0], [12.9910375, 77.5858824, 224.0], [12.9843978, 77.5826837, 76.0], [12.9822324, 77.6082947, 76.0], [12.9934283, 77.5902145, 127.0], [13.0358698, 77.6323597, 51.0], [12.9624669, 77.6381958, 199.0], [12.945245, 77.6269144, 202.0], [12.9678074, 77.6568367, 117.0], [12.9824848, 77.6341002, 7.0], [13.0027353, 77.5703253, 215.0], [12.9931876, 77.5753419, 83.0], [13.0093455, 77.6377094, 175.0], [12.9390255, 77.6238477, 408.0], [12.9783547, 77.5728609, 69.0], [12.957998, 77.6037312, 22.0], [12.97339325, 77.61124684880099, 2.0], [12.9578658, 77.6958748, 34.0], [12.96381425, 77.72243691580387, 282.0], [12.9874878, 77.736158, 50.0], [12.9621761, 77.77136741208628, 47.0], [13.007516, 77.695935, 12.0], [12.9243692, 77.6242433, 58.0], [12.9282918, 77.6254034, 84.0], [12.9340114, 77.6222304, 19.0], [12.9585353, 77.6061062, 73.0], [12.9882338, 77.554883, 230.0], [13.0141618, 77.6518539, 227.0], [12.9817233, 77.5549364, 6.0], [13.0422794, 77.6248577, 96.0], [13.0258087, 77.6305067, 68.0], [13.0221416, 77.6403368, 262.0], [13.0268145, 77.5717187, 267.0], [13.0784743, 77.6068938, 3.0], [77.6785, 13.0163, 14.0], [12.973936, 77.6509982, 78.0], [12.9846713, 77.6790908, 47.0], [13.0382184, 77.5919, 4.0], [12.993541, 77.5852203, 17.0], [13.0068, 77.5813, 20.0], [12.99118045, 77.54489175084052, 65.0], [13.02383, 77.5529215, 72.0], [13.009476450000001, 77.55308891231309, 1.0], [12.975608, 77.5553564, 12.0], [13.0621474, 77.58006135480495, 13.0], [13.0329419, 77.5273253, 1.0]],\n",
       "                {&quot;blur&quot;: 15, &quot;maxZoom&quot;: 18, &quot;minOpacity&quot;: 0.5, &quot;radius&quot;: 25}\n",
       "            );\n",
       "        \n",
       "    \n",
       "            heat_map_94a73f92072a58ba1856e5e1a90f20d9.addTo(map_5dea82818508e10510145839704ca492);\n",
       "        \n",
       "    \n",
       "            tile_layer_151146d5f9b102d02e93acaeb917ca86.addTo(map_5dea82818508e10510145839704ca492);\n",
       "        \n",
       "    \n",
       "            heat_map_94a73f92072a58ba1856e5e1a90f20d9.addTo(map_5dea82818508e10510145839704ca492);\n",
       "        \n",
       "&lt;/script&gt;\n",
       "&lt;/html&gt;\" style=\"position:absolute;width:100%;height:100%;left:0;top:0;border:none !important;\" allowfullscreen webkitallowfullscreen mozallowfullscreen></iframe></div></div>"
      ],
      "text/plain": [
       "<folium.folium.Map at 0x1f4a50366d0>"
      ]
     },
     "execution_count": 208,
     "metadata": {},
     "output_type": "execute_result"
    }
   ],
   "source": [
    "basemap.save('north_indian_heatmap.html')\n",
    "basemap"
   ]
  },
  {
   "cell_type": "markdown",
   "metadata": {},
   "source": [
    "## Function for generating heatmap"
   ]
  },
  {
   "cell_type": "code",
   "execution_count": 206,
   "metadata": {},
   "outputs": [],
   "source": [
    "import folium\n",
    "from folium.plugins import HeatMap\n",
    "\n",
    "def getHeatMap(cuisine):\n",
    "    cuisine_df = df.dropna(subset='cuisines')\n",
    "    cuisine_df = cuisine_df[cuisine_df['cuisines'].str.contains(cuisine)]\n",
    "    cuisine_df_counts = cuisine_df['location'].value_counts()\n",
    "    cuisine_df_counts = cuisine_df_counts.to_frame().reset_index()\n",
    "    cuisine_df_counts.columns = ['name', 'count']\n",
    "    cuisine_df_counts['name'] = cuisine_df_counts['name'] + \" , Bangalore  , Karnataka , India \"\n",
    "    heatmap_df = locations.merge(cuisine_df_counts, on='name', how='left')\n",
    "    heatmap_df.dropna(subset='count', inplace=True)\n",
    "    basemap = folium.Map(location=[heatmap_df['latitude'].mean(), heatmap_df['longitude'].mean()], zoom_start=4)\n",
    "    heat_data = heatmap_df[['latitude','longitude','count']]\n",
    "    HeatMap(heat_data).add_to(basemap)\n",
    "    print(heat_data.head())\n",
    "    basemap.save(cuisine + '_heatmap.html')\n",
    "    return basemap\n",
    "    "
   ]
  },
  {
   "cell_type": "code",
   "execution_count": 207,
   "metadata": {},
   "outputs": [
    {
     "name": "stdout",
     "output_type": "stream",
     "text": [
      "    latitude  longitude  count\n",
      "0  12.939333  77.553982  259.0\n",
      "1  12.941726  77.575502  156.0\n",
      "2  12.960494  77.556961    9.0\n",
      "3  12.941849  77.586898  570.0\n",
      "4  12.906768  77.559502   99.0\n"
     ]
    },
    {
     "data": {
      "text/html": [
       "<div style=\"width:100%;\"><div style=\"position:relative;width:100%;height:0;padding-bottom:60%;\"><span style=\"color:#565656\">Make this Notebook Trusted to load map: File -> Trust Notebook</span><iframe srcdoc=\"&lt;!DOCTYPE html&gt;\n",
       "&lt;html&gt;\n",
       "&lt;head&gt;\n",
       "    \n",
       "    &lt;meta http-equiv=&quot;content-type&quot; content=&quot;text/html; charset=UTF-8&quot; /&gt;\n",
       "    \n",
       "        &lt;script&gt;\n",
       "            L_NO_TOUCH = false;\n",
       "            L_DISABLE_3D = false;\n",
       "        &lt;/script&gt;\n",
       "    \n",
       "    &lt;style&gt;html, body {width: 100%;height: 100%;margin: 0;padding: 0;}&lt;/style&gt;\n",
       "    &lt;style&gt;#map {position:absolute;top:0;bottom:0;right:0;left:0;}&lt;/style&gt;\n",
       "    &lt;script src=&quot;https://cdn.jsdelivr.net/npm/leaflet@1.9.3/dist/leaflet.js&quot;&gt;&lt;/script&gt;\n",
       "    &lt;script src=&quot;https://code.jquery.com/jquery-3.7.1.min.js&quot;&gt;&lt;/script&gt;\n",
       "    &lt;script src=&quot;https://cdn.jsdelivr.net/npm/bootstrap@5.2.2/dist/js/bootstrap.bundle.min.js&quot;&gt;&lt;/script&gt;\n",
       "    &lt;script src=&quot;https://cdnjs.cloudflare.com/ajax/libs/Leaflet.awesome-markers/2.0.2/leaflet.awesome-markers.js&quot;&gt;&lt;/script&gt;\n",
       "    &lt;link rel=&quot;stylesheet&quot; href=&quot;https://cdn.jsdelivr.net/npm/leaflet@1.9.3/dist/leaflet.css&quot;/&gt;\n",
       "    &lt;link rel=&quot;stylesheet&quot; href=&quot;https://cdn.jsdelivr.net/npm/bootstrap@5.2.2/dist/css/bootstrap.min.css&quot;/&gt;\n",
       "    &lt;link rel=&quot;stylesheet&quot; href=&quot;https://netdna.bootstrapcdn.com/bootstrap/3.0.0/css/bootstrap.min.css&quot;/&gt;\n",
       "    &lt;link rel=&quot;stylesheet&quot; href=&quot;https://cdn.jsdelivr.net/npm/@fortawesome/fontawesome-free@6.2.0/css/all.min.css&quot;/&gt;\n",
       "    &lt;link rel=&quot;stylesheet&quot; href=&quot;https://cdnjs.cloudflare.com/ajax/libs/Leaflet.awesome-markers/2.0.2/leaflet.awesome-markers.css&quot;/&gt;\n",
       "    &lt;link rel=&quot;stylesheet&quot; href=&quot;https://cdn.jsdelivr.net/gh/python-visualization/folium/folium/templates/leaflet.awesome.rotate.min.css&quot;/&gt;\n",
       "    \n",
       "            &lt;meta name=&quot;viewport&quot; content=&quot;width=device-width,\n",
       "                initial-scale=1.0, maximum-scale=1.0, user-scalable=no&quot; /&gt;\n",
       "            &lt;style&gt;\n",
       "                #map_c09da69dfd9ce2dfac4cb828675ecdbe {\n",
       "                    position: relative;\n",
       "                    width: 100.0%;\n",
       "                    height: 100.0%;\n",
       "                    left: 0.0%;\n",
       "                    top: 0.0%;\n",
       "                }\n",
       "                .leaflet-container { font-size: 1rem; }\n",
       "            &lt;/style&gt;\n",
       "        \n",
       "    &lt;script src=&quot;https://cdn.jsdelivr.net/gh/python-visualization/folium@main/folium/templates/leaflet_heat.min.js&quot;&gt;&lt;/script&gt;\n",
       "&lt;/head&gt;\n",
       "&lt;body&gt;\n",
       "    \n",
       "    \n",
       "            &lt;div class=&quot;folium-map&quot; id=&quot;map_c09da69dfd9ce2dfac4cb828675ecdbe&quot; &gt;&lt;/div&gt;\n",
       "        \n",
       "&lt;/body&gt;\n",
       "&lt;script&gt;\n",
       "    \n",
       "    \n",
       "            var map_c09da69dfd9ce2dfac4cb828675ecdbe = L.map(\n",
       "                &quot;map_c09da69dfd9ce2dfac4cb828675ecdbe&quot;,\n",
       "                {\n",
       "                    center: [13.689652423888889, 76.8929212745104],\n",
       "                    crs: L.CRS.EPSG3857,\n",
       "                    zoom: 4,\n",
       "                    zoomControl: true,\n",
       "                    preferCanvas: false,\n",
       "                }\n",
       "            );\n",
       "\n",
       "            \n",
       "\n",
       "        \n",
       "    \n",
       "            var tile_layer_3b9c87d4fcd39b64686ef2aa324aa816 = L.tileLayer(\n",
       "                &quot;https://tile.openstreetmap.org/{z}/{x}/{y}.png&quot;,\n",
       "                {&quot;attribution&quot;: &quot;\\u0026copy; \\u003ca href=\\&quot;https://www.openstreetmap.org/copyright\\&quot;\\u003eOpenStreetMap\\u003c/a\\u003e contributors&quot;, &quot;detectRetina&quot;: false, &quot;maxNativeZoom&quot;: 19, &quot;maxZoom&quot;: 19, &quot;minZoom&quot;: 0, &quot;noWrap&quot;: false, &quot;opacity&quot;: 1, &quot;subdomains&quot;: &quot;abc&quot;, &quot;tms&quot;: false}\n",
       "            );\n",
       "        \n",
       "    \n",
       "            tile_layer_3b9c87d4fcd39b64686ef2aa324aa816.addTo(map_c09da69dfd9ce2dfac4cb828675ecdbe);\n",
       "        \n",
       "    \n",
       "            var heat_map_00315338bce7c1646e157ba4686432c2 = L.heatLayer(\n",
       "                [[12.9393328, 77.5539819, 259.0], [12.9417261, 77.5755021, 156.0], [12.9604945, 77.5569608, 9.0], [12.9418488, 77.5868976, 570.0], [12.9067683, 77.5595021, 99.0], [12.9274413, 77.5155224, 1.0], [12.9660722, 77.6125940647638, 32.0], [12.9039566, 77.5096235, 13.0], [12.9096941, 77.5866067, 633.0], [12.864107149999999, 77.55441638924378, 20.0], [12.965717999999999, 77.5762705372058, 50.0], [12.9812956, 77.5186888, 8.0], [12.9366292, 77.6014714, 510.0], [12.911275849999999, 77.60456543431182, 1824.0], [12.9368751, 77.5753517, 16.0], [12.9089453, 77.6239038, 101.0], [12.9855509, 77.668072, 14.0], [12.848759900000001, 77.64825295827616, 509.0], [12.9116225, 77.6388622, 760.0], [12.9552572, 77.6984163, 668.0], [12.9237639, 77.6540735, 311.0], [12.9489339, 77.5968273, 92.0], [12.9575547, 77.5979099, 174.0], [12.9348429, 77.6189768, 730.0], [12.9408685, 77.617338, 100.0], [12.9700474, 77.6171042, 233.0], [12.9364846, 77.6134783, 284.0], [13.0394104, 77.5197351, 14.0], [12.9327778, 77.6294052, 278.0], [12.93103185, 77.6782471, 375.0], [12.9696365, 77.7497448, 629.0], [13.001147, 77.61822712748447, 8.0], [12.9604498, 77.642725, 145.0], [12.9732913, 77.6404672, 466.0], [12.9277245, 77.6327822, 356.0], [12.9986827, 77.615525, 200.0], [13.0227204, 77.595715, 44.0], [12.9755264, 77.6067902, 242.0], [12.9672765, 77.6065676, 349.0], [12.9683054, 77.5964883, 57.0], [12.9749032, 77.6052899, 105.0], [12.9778793, 77.6246697, 245.0], [12.9735743, 77.6104297, 194.0], [12.986391, 77.6075416, 162.0], [12.9821293, 77.5988521, 79.0], [12.9744255, 77.6015301, 61.0], [12.9910375, 77.5858824, 170.0], [12.9843978, 77.5826837, 31.0], [12.9822324, 77.6082947, 59.0], [12.9934283, 77.5902145, 94.0], [13.0358698, 77.6323597, 65.0], [12.9624669, 77.6381958, 120.0], [12.945245, 77.6269144, 186.0], [12.9678074, 77.6568367, 66.0], [12.9824848, 77.6341002, 17.0], [13.0027353, 77.5703253, 157.0], [12.9931876, 77.5753419, 67.0], [13.0093455, 77.6377094, 211.0], [12.9390255, 77.6238477, 322.0], [12.9783547, 77.5728609, 55.0], [12.97339325, 77.61124684880099, 2.0], [12.9578658, 77.6958748, 21.0], [12.96381425, 77.72243691580387, 254.0], [12.9874878, 77.736158, 21.0], [12.9621761, 77.77136741208628, 26.0], [13.007516, 77.695935, 17.0], [12.9243692, 77.6242433, 36.0], [12.9282918, 77.6254034, 62.0], [12.9340114, 77.6222304, 12.0], [12.9585353, 77.6061062, 54.0], [12.9882338, 77.554883, 204.0], [13.0141618, 77.6518539, 254.0], [12.9817233, 77.5549364, 6.0], [13.0422794, 77.6248577, 76.0], [13.0258087, 77.6305067, 56.0], [13.0221416, 77.6403368, 170.0], [13.0268145, 77.5717187, 196.0], [13.0784743, 77.6068938, 3.0], [77.6785, 13.0163, 6.0], [12.973936, 77.6509982, 60.0], [12.9846713, 77.6790908, 37.0], [13.0382184, 77.5919, 6.0], [12.993541, 77.5852203, 8.0], [13.0068, 77.5813, 17.0], [12.99118045, 77.54489175084052, 53.0], [13.02383, 77.5529215, 65.0], [13.009476450000001, 77.55308891231309, 1.0], [12.975608, 77.5553564, 9.0], [13.0621474, 77.58006135480495, 9.0], [13.0329419, 77.5273253, 1.0]],\n",
       "                {&quot;blur&quot;: 15, &quot;maxZoom&quot;: 18, &quot;minOpacity&quot;: 0.5, &quot;radius&quot;: 25}\n",
       "            );\n",
       "        \n",
       "    \n",
       "            heat_map_00315338bce7c1646e157ba4686432c2.addTo(map_c09da69dfd9ce2dfac4cb828675ecdbe);\n",
       "        \n",
       "    \n",
       "            tile_layer_3b9c87d4fcd39b64686ef2aa324aa816.addTo(map_c09da69dfd9ce2dfac4cb828675ecdbe);\n",
       "        \n",
       "    \n",
       "            heat_map_00315338bce7c1646e157ba4686432c2.addTo(map_c09da69dfd9ce2dfac4cb828675ecdbe);\n",
       "        \n",
       "&lt;/script&gt;\n",
       "&lt;/html&gt;\" style=\"position:absolute;width:100%;height:100%;left:0;top:0;border:none !important;\" allowfullscreen webkitallowfullscreen mozallowfullscreen></iframe></div></div>"
      ],
      "text/plain": [
       "<folium.folium.Map at 0x1f4a833e990>"
      ]
     },
     "execution_count": 207,
     "metadata": {},
     "output_type": "execute_result"
    }
   ],
   "source": [
    "getHeatMap('Chinese')"
   ]
  },
  {
   "cell_type": "code",
   "execution_count": null,
   "metadata": {},
   "outputs": [],
   "source": []
  }
 ],
 "metadata": {
  "kernelspec": {
   "display_name": "base",
   "language": "python",
   "name": "python3"
  },
  "language_info": {
   "codemirror_mode": {
    "name": "ipython",
    "version": 3
   },
   "file_extension": ".py",
   "mimetype": "text/x-python",
   "name": "python",
   "nbconvert_exporter": "python",
   "pygments_lexer": "ipython3",
   "version": "3.11.5"
  }
 },
 "nbformat": 4,
 "nbformat_minor": 2
}
